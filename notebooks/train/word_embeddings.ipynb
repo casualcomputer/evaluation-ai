{
  "nbformat": 4,
  "nbformat_minor": 0,
  "metadata": {
    "colab": {
      "provenance": []
    },
    "kernelspec": {
      "name": "python3",
      "display_name": "Python 3"
    },
    "language_info": {
      "name": "python"
    }
  },
  "cells": [
    {
      "cell_type": "markdown",
      "source": [
        "# Part I: data preprocessing"
      ],
      "metadata": {
        "id": "NLj4vAH2jRu2"
      }
    },
    {
      "cell_type": "code",
      "source": [
        "# get some text data\n",
        "import requests\n",
        "target_url = \"https://raw.githubusercontent.com/casualcomputer/evaluation-ai/main/data/raw/cra_007_Evaluation%20%E2%80%93%20Canada%20Revenue%20Agency%20(CRA)%20Management%20of%20Small%20Business%20Nudge.txt\"\n",
        "response = requests.get(target_url)\n",
        "data = response.text #[0:1000] #first three hundred charactes\n",
        "data #run into bugs when feeding the evalaution report\n",
        "\n",
        "# if the text data are as follows, then the codes works\n",
        "# data = '''Machine learning is the study of computer algorithms that \\\n",
        "# improve automatically through experience. It is seen as a \\\n",
        "# subset of artificial intelligence. Machine learning algorithms \\\n",
        "# build a mathematical model based on sample data, known as \\\n",
        "# training data, in order to make predictions or decisions without \\\n",
        "# being explicitly programmed to do so. Machine learning algorithms \\\n",
        "# are used in a wide variety of applications, such as email filtering \\\n",
        "# and computer vision, where it is difficult or infeasible to develop \\\n",
        "# conventional algorithms to perform the needed tasks.'''"
      ],
      "metadata": {
        "id": "4wp1WiaLjRdW",
        "colab": {
          "base_uri": "https://localhost:8080/",
          "height": 123
        },
        "outputId": "0e29524a-41b9-47c5-affa-dbe8cbf0a895"
      },
      "execution_count": null,
      "outputs": [
        {
          "output_type": "execute_result",
          "data": {
            "text/plain": [
              "\"Evaluation – Canada Revenue Agency (CRA) Management of Small Business Nudge\\nFinal Report\\nAudit, Evaluation, and Risk Branch\\nJune\\xa02022\\nOn this page\\nExecutive summary\\n1. Introduction\\n2. Background\\n3. Evaluation methodologies\\n4. Findings, recommendations, and management response\\n4.1 There is no standard definition of “small business” at the CRA, and none that takes a taxpayer-centric view. The evaluation team has developed the concept of a “closely-held” business to address this gap.\\n4.2 A taxpayer-centric segmentation approach could enhance CRA nudge impacts on small businesses.\\n4.3 Many of the concerns regarding CRA nudge experimentations can be traced to a culture and practice of vertical rather than horizontal integration.\\n5. Conclusion\\n6. Acknowledgement\\n7. Appendices\\nAppendix A: Evaluation issues and methodology\\nAppendix B: List of reports for the thematic evaluation\\nAppendix C: Glossary\\nExecutive summary\\nThis evaluation is the second in a series of evaluations on small business administration at the Canada Revenue Agency (CRA).\\nThe purpose of this engagement was to provide the Commissioner, CRA management, and the Board of Management with an assessment of the CRA’s nudge\\nFootnote\\n1\\nefforts as it is applied\\nFootnote\\n2\\nto encouraging tax compliance among the small business population.\\nThis report also examines the CRA’s multiple definitions of “small business” and the CRA’s own data user experiences in terms of using CRA data to conduct nudge activities.\\nNudge experimentation relies on understanding the small business taxpayer’s behaviours, attitudes, and operating context. As a result, nudge success depends on horizontal and governance related factors in the areas of research and data.\\nWhen properly targeted and designed, a nudge intervention can be an innovative and cost-effective way to facilitate voluntary compliance with a desired outcome\\nFootnote\\n3\\n. Nudges, such as letter and telephone reminders, are intended to encourage desired behaviours, such as helping taxpayers to comply with their tax obligations, while minimizing the burden on them. Traditional compliance strategies, such as audits, are labour-intensive and have limited reach, while nudges tend to be more cost-effective with their wider reach.\\nAccording to the Organisation for Economic Co-operation and Development’s Forum on Tax Administration (2021), a data-driven understanding of human behaviour can improve taxpayer and customer services and optimize enforcement strategies, including nudges. In the context of nudges, there could be circumstances where segmenting large, diverse populations is worthwhile. The process of segmenting identifies distinctive sub-groups who tend to share certain demographics, behaviours, social values, and other attributes within a population\\nFootnote\\n4\\n.\\nFindings\\nThe evaluation found that:\\nthere is no standard definition of “small business” at the CRA, and none that takes a taxpayer-centric view; the evaluation team developed the concept of a “closely-held” business to address this gap\\na taxpayer-centric segmentation approach (for example, using a blend of behavioural, attitudinal, and context data to reach a more meaningful understanding of a taxpayer group) can enhance the CRA nudge impacts for small businesses\\nmany of the concerns regarding CRA small business nudge research can be traced to a culture and practice of vertical rather than horizontal integration\\nSummary of recommendations\\nThe Service, Innovation and Integration Branch should develop Behavioral Economics research standards for the Agency outlining the required steps in establishing rigorous behaviour-centric segmentation, specific to the appropriate target groups (treatment groups) and desired outcomes.\\nThe Service, Innovation and Integration Branch, with the support of the program branches, should improve collaboration and sharing of small business nudge related research and projects across the Agency.\\nThe Service, Innovation and Integration Branch, with the support of the program branches, should improve small business nudge monitoring and reporting.\\nManagement response\\nThe Service, Innovation and Integration Branch (SIIB) agrees with the three recommendations in this report and has developed related action plans. The Audit, Evaluation, and Risk Branch (AERB) has determined that they appear reasonable to address the recommendations. After allowing adequate time for key action plan items to be completed, AERB will conduct a follow-up assurance engagement to determine whether any gaps continue to exist and what opportunities should be further explored.\\nRegarding the first recommendation, SIIB recognizes that Behavioural Economics (BE) has increasingly been used to develop nudge techniques in an effort to increase voluntary compliance, service provision and internal operations. In order to design effective nudge interventions, the most suitable nudge intervention for a given project will capitalize on both the cause of the behavioural issue and specific characteristics of the target population. Both rest on the availability of data and its reliability.\\nSIIB, in consultation with CRA stakeholders will:\\nEstablish a “BE Research Standard” that codifies the controls required in the course of BE research (Q4 2022-2023).\\nAssess the viability of applying third party attitudinal survey data to CRA micro data (Q3 2022-2023).\\nEstablish and maintain a list of experts that can be consulted for BE Research (Q2 2022-2023).\\nAs for the second recommendation, SIIB recognizes the need for further collaboration and sharing of nudge research across the Agency. SIIB houses the Centre for Excellence in Behavioural Economics Research (CEBER), which promotes methodological rigour in Agency nudge activities.\\nSIIB will improve functionality of the Agency Research Inventory that facilitates sharing and identification of BE research (Q4 2022-2023).\\nSIIB, through the planned relaunch of the Research Network, will act as a hub for analysts across the Agency to share their work (Q3 2022-2023).\\nFinally, in response to the third recommendation, it should be noted that behavioural economics research in the CRA is distributed across different program areas. To provide an enterprise-level view of nudge projects.\\nSIIB will establish guidelines for data analysis of nudge and behavioural economics activities, including a “BE Research Standard” that codifies the controls required in the course of BE research (Q2 2023-2024).\\nDevelop a mechanism of annual reporting on nudges, including small businesses (Q4 2023-2024).\\n1. Introduction\\nA thematic evaluation of “small business administration” was first included in the Board of Management approved Risk-Based Audit and Evaluation Plan 2018 to 2021 and an overarching evaluation framework was approved by the Management Audit and Evaluation Committee on\\nMay 30, 2019\\n.\\nThis thematic evaluation is divided into a series of reports. The first report, “Audit Yield,” was presented to the Management Audit and Evaluation Committee in November 2019.\\nThis report is the second in this series. This evaluation started by exploring the following areas:\\ndefinitions of “small business” at the Canada Revenue Agency (CRA)\\nT1 and T2 population compliance trends\\nany data-related experiences that were encountered\\nOne of the commitments of the thematic evaluation approach is to provide the Management Audit and Evaluation Committee and the Audit Committee of the Board of Management (Board) with periodic progress reports. The interim report was presented to the Management Audit and Evaluation Committee in March 2021 and the Audit Committee of the Board in April\\xa02021, respectively. During these meetings, the original wave two commitment evolved in terms of refining the examination of T1 and T2 trends by focusing on CRA nudge compliance efforts aimed at the small business community.\\nNudges as they relate to small business compliance became the focus of the evaluation for several reasons:\\nusing nudge techniques to influence desired behaviours and outcomes of a taxpayer is a low-cost method of potentially achieving greater compliance results for the CRA while minimizing the contact burden on the taxpayer\\nusing behavioural insights such as nudges is a widely accepted practice of improving tax administrations as evidenced by the recent guide\\nFootnote\\n5\\npublished by the Organization for Economic Co-operation and Development\\nopportunities exist to advance segmentation and nudging by integrating third-party data (such as behavioural data) to develop a more meaningful understanding of a taxpayer (in other words, create a taxpayer-centric perspective)\\nan extensive review of CRA literature and consultations with key stakeholders revealed there was no horizontal approach to applying nudge techniques as applied to small business across the CRA, thereby limiting measured progress in this field\\nAs a result, the evaluation team:\\nidentified a new sub-set of small businesses (in other words, 5.7M “closely-held” businesses – explained further in Section\\xa04)\\ndeveloped a taxpayer-centric segmentation system using third-party data (such as attitudinal data) blended with CRA data, and tested the system against past small business nudge compliance campaigns to determine its value\\n2. Background\\nThe purpose of this engagement was to provide the Commissioner, CRA management, and the Board of Management with an assessment of CRA nudge efforts through the lens of a more taxpayer-centric approach to segmenting the small business population. This report also examines the CRA’s multiple definitions of “small business,” and the CRA’s own data user experiences.\\nThaler and Sunstein (2008) described “nudge” as changing someone’s behaviour in predictable ways without having to remove any options or changing their economic incentives\\nFootnote\\n6\\n. The nudge literature suggests that the more that can be known about a nudge recipient, the easier it could be to tailor messages that appeal to them, thereby improving the chances that the nudge will succeed.\\nThe CRA’s activities serve wide audiences within the small business population. Based on their information needs, the vast majority of these businesses are either T1 self-employed or T2 owner-operated filers. As a result, at the strategic level, the CRA has tended to communicate with small businesses as a single segment. “Serving you Better,” the small business consultation reporting on a bi-annual reporting cycle, is consistent with this approach\\nFootnote\\n7\\n. From a compliance perspective, the CRA’s nudge efforts have tended to either be applied to an industrial sector, an entire population of non-compliance, such as T2 non-filers, or a specific aspect of reporting. Some nudges have been further broken down by tax line.\\nNudge techniques are used by many tax administrations and there is evidence to suggest that they can work. The Organisation for Economic Co-operation and Development (2021) report on behavioural insights\\nFootnote\\n8\\nprovides an overview of the use and impact of nudges by numerous tax administrations. For example, one tax administration was able to reduce the number of taxpayers owing taxes by 33%, while another tax administration increased filing among prior non-filers by as much as 15%, all through the implementation of targeted nudge letter campaigns.\\n3. Evaluation methodologies\\nThe evaluation team used the following methodologies:\\ndata analysis of four years (2014-2017)\\nFootnote\\n9\\nof:\\nfiling and payment compliance\\nsources of household and business income\\nthe purchase of a temporary, three-month trial subscription with a third-party data provider, which provided access to a segmentation system and the social values, wealth profiles, and demographics of Canadians at the postal code level only\\nnudge results from 2015, 2016, 2017, and 2020 pilot projects administered by the CRA\\ndocument reviews, including 400 reports from both the Agency Research Inventory and the Business Intelligence Reference System, and benchmarking of best practices with Organisation for Economic Co-operation and Development countries\\ninternal interviews and focus groups with CRA employees\\nexternal interviews with other Government of Canada employees\\nsurvey of CRA employees who obtain, extract, and prepare data, also referred to as “data users”\\nLimitations of this research\\nWhen managing data, taxpayer privacy is paramount. Consistent with privacy laws, the third-party data (such as social values and behavioural data) purchased for this research is modelled at the postal code level. While modelled postal-code-level data increases the chances of getting the right message to the right person\\nFootnote\\n10\\n, it is impossible to link modelled data to any individual within a postal code. Further, although it is improbable that postal-code-level generalizations apply to everyone residing in that postal code, such analysis provides valuable contact information that previous internal research using other factors such as region, sex, and industry code does not.\\n4. Findings, recommendations, and management response\\nThe recommendations presented in this report address issues of high significance or mandatory requirements.\\nThe Service, Innovation and Integration Branch agree with the recommendations in this report and have developed related action plans. The Audit, Evaluation, and Risk Branch has determined that they appear reasonable to address the recommendations.\\n4.1 There is no standard definition of “small business” at the CRA, and none that takes a taxpayer-centric view. The evaluation team has developed the concept of a “closely-held” business to address this gap.\\nThere is no standard definition of “small business” at the CRA. Most of the 17 definitions tend to be based on revenue or the number of employees, which can vary widely\\nFootnote\\n11\\n. None of these definitions focus on either the individual T2 owner-operated corporation or the T1 self-employed sole proprietor.\\nThe evaluation team developed the concept of the “closely-held business” segment to address this gap. It focuses on the individuals behind smaller businesses and includes all T1 self-employed and T2 owner-operated corporations where there is either a single (or spousal) majority shareholder with a controlling interest (greater than 90% of the corporation’s shares). This distinction is important because in T2 corporations, ownership can be spread among multiple minority shareholders, requiring the use of other criteria (such as revenue or number of employees) to distinguish between small-, medium-, and large-sized businesses. Overall, as of 2017, there were approximately 5.7 million closely-held businesses in Canada, which includes 4.5 million T1 self-employed and 1.2 million T2 owner-operated corporations.\\nAchieving a taxpayer-centric view is possible with the closely-held business definition because of its focus on the individual who operates the business. The idea behind a taxpayer-centric view is to try to better understand the attitudes, behaviours, situations, and other tendencies of these taxpayers in order to build relationships that improve both service and compliance, all while addressing unique needs. Developing a taxpayer-centric view of small businesses could be ideal because of:\\nthe multiple tax obligations they might have, including T1, T2, GST/HST, and payroll\\ntheir large numbers (they represent approximately 85% of all businesses in Canada), coupled with their relatively low taxes payable\\nThese same population characteristics also justify the use of nudge techniques. The Small and Medium Enterprises Directorate of the Compliance Programs Branch developed a report titled “The right intervention for the risk.”\\nFootnote\\n12\\nThis report states that a more targeted approach to CRA interventions is preferred, where audits and enforcement action are aimed at serious non-compliance, while less serious compliance risks are treated using “softer,” less costly techniques and initiatives, such as enhanced information resources, liaison officer programs, and nudge campaigns.\\n4.1.1 Although the CRA has developed two small-business owner personae\\nFootnote\\n13\\n, which could be used as the basis for segmentation, these currently have limited use.\\nPersonae are fictional representations of segments, or groups, of individuals based on attributes that could reflect their characteristics, values, and behavioural tendencies. Their purpose is to increase an organization’s understanding of the different groups it serves. Their value lies in how clearly they reveal what drives the different types of individuals. Applying the taxpayer-centric view to small businesses lends itself to the creation of unique personae.\\nThe evaluation team’s quantitative analysis revealed that there is an opportunity to refine the CRA’s business-related personae to more accurately reflect the small business population. For example, the CRA’s current “Nate” persona resembles between 0 and 0.2% of small businesses, while the “Beatrice” persona resembles between 0 and 1.0%\\nIt should be noted that these personae are intended for web content developers and others within the Public Affairs Branch to help increase their sensitivity to unique small business needs. As a result, there was no evidence that these, or any other personae, were intended for or have been used as the basis for nudge messaging. Further, given their limited breadth, the personae could not be used to assess the efficacy of CRA nudge efforts.\\n4.2 A taxpayer-centric segmentation approach could enhance CRA nudge impacts on small businesses.\\nMass marketing approaches to communications typically send one message to an entire population. By contrast, the idea behind segmentation is to identify distinctive sub-groups based on their respective tendencies within a population (such as closely-held businesses). This segmentation would be based on a combination of behavioural, demographic, social values, and other tendencies. Identifying segments this way provides the basis for achieving specific goals, such as increasing the possibility of getting the right message to the right person, which is a key consideration in small business nudge efforts.\\nThis section provides an overview of:\\nthe taxpayer-centric segmentation system developed by the evaluation team for the closely-held business population\\ninsights on how to optimize the results from four CRA small business nudge initiatives (2015, 2016, 2017, and 2020)\\n4.2.1 Overview of the taxpayer-centric segmentation system developed by the evaluation team\\nThe evaluation team found that the optimal number of closely-held business segments is six, a result that is aligned with previous CRA public opinion research. Table 1 includes the following information about each segment:\\nsegment label and the percentage of the closely-held business population that it represents\\nsocial value tendencies\\nranking of filing and payment compliance behaviours\\npercentage of taxes unpaid when due\\nability to pay, an indication of their financial situation\\nnudge response rank\\nTable 1: Summary of the closely-held business taxpayer-centric segmentation system\\nSegment label (% of overall population)\\nThey tend to value:\\nCompliance rank\\n% of unpaid taxes\\n(%)\\nFootnote\\n14\\nAbility to pay\\nrank\\nFootnote\\n15\\nNudge response\\nrank\\nFootnote\\n16\\nFiling\\nrank\\nFootnote\\n17\\nPayment\\nrank\\nFootnote\\n18\\nAltruistic compliers (16%)\\nCivil obedience, gov’t action, community\\n1\\n2\\n42\\n5\\n4\\nDeferent compliers (4%)\\nPersonal duty, civil disobedience, gov’t action, physical force\\n2\\n1\\n41\\n1\\n1\\nPseudo compliers (41%)\\nRespecting authority, private sector over gov’t\\n3\\n4\\n44\\n3\\n5\\nSituational non-compliers (8%)\\nRisk taking, traditional values, private sector over gov’t, inequality as inevitable\\n4\\n6\\n52\\n2\\n6\\nPotential non-compliers (25%)\\nCivil disobedience, individualism, work ethic, inequality as inevitable\\n5\\n3\\n58\\n6\\n2\\nRebels (5%)\\nEliminating inequality, civil disobedience, individualism\\n6\\n5\\n54\\n4\\n3\\nAs Table 1, above, illustrates, both similarities and differences between the segments emerge when comparing information by row. For example, while altruistic compliers and deferent compliers were consistently the most filing and payment compliant, the two segments tend to differ in their financial situations, social values, and response to CRA nudges. Pseudo compliers and Situational non-compliers are the only two segments to tend to value the private sector over government in dealing with societal issues. They are also both more likely to be in good financial health and less likely to respond to CRA nudges. However, not only do their remaining social values diverge, but situational non-compliers are more likely to be payment non-compliant and carry a larger portion of tax debt. Understanding the tendencies and situations of each segment can assist the CRA to determine the appropriate compliance actions for each segment of the closely-held business population. The next section describes how the proposed segmentation system can be applied within the CRA.\\n4.2.2 Applying the segmentation systems\\nThe CRA has a stated objective of using the right intervention for the risk. Within the context of nudge, this means determining which segments of the population are most likely to respond to a compliance intervention, such as a nudge, and use these insights to improve non-compliance. This also means understanding which segments are not likely to respond to nudge techniques and using different compliance approaches for these segments. Table 1 highlights that different segments of the population had different response rates to CRA nudge experiments. Deferent compliers were the most responsive and situational non-compliers were the least likely to respond.\\nThe differences in response rates between the segments highlights the need for enhanced monitoring. The evaluation team created an indicator to monitor and optimize the use of nudge within specific segments of the closely-held business population. The indicator calculates the percentage of letters/contacts received by taxpayers compared with the percentage of responses that were subsequently received by the CRA. To optimize its impact, the CRA would nudge the segments that are most responsive and limit the letters sent to those who are the least responsive.\\nThe evaluation team tested its taxpayer-centric segmentation system using the data collected during the four CRA nudge experiments. A summary of the test results can be found in Table\\xa02.\\nTable 2: Frequency of nudge optimization by taxpayer-centric segment\\nImpact\\nNudge\\nconditions\\nFootnote\\n19\\napplied to each segment\\nAltruistic compliers\\nDeferent compliers\\nPseudo compliers\\nSituational non-compliers\\nPotential non-compliers\\nRebels\\nOverall averages\\nNear-optimal\\n9%\\n64%\\n100%\\n64%\\n45%\\n82%\\n61%\\nSub-optimal\\n91%\\n36%\\n0%\\n36%\\n55%\\n18%\\n39%\\nOverall, the test results were positive and suggest that the CRA optimized its return in a total of 61% of the segments/nudge conditions included in the analysis. Based on their response rates, “pseudo-complier” and the “rebel” segments tended to be optimally targeted and combined, these two segments represent approximately half of the closely-held business population.\\nThe tests also revealed some opportunities for improvement in the targeting approach for certain nudge experiments. In about 39% of the conditions CRA nudge achieved a sub-optimal impact because it either did not send enough nudges to highly responsive segments or it sent too many nudges to largely unresponsive segments. For example, the CRA could have attempted to reach more taxpayers in the “potential non-complier” segment but, by contrast, the CRA sent too many letters to altruistic compliers.\\nThe evaluation team also tested a third-party segmentation system using the data collected from the four CRA nudge experiments. Overall, the third-party segmentation system produced inconsistent results across the various nudge experiments. A few segments showed consistently above or below average response rates while most did not produce detectable differences. This led the evaluation team to conclude that a taxpayer-centric segmentation system has greater potential to optimize future small business nudge performance.\\n4.2.3 Key takeaways from segmentation system testing\\nThe observations emerging from this evaluation should be considered tentative because they are only based on four previous nudge studies. Despite this, the taxpayer-centric segmentation system raises questions that warrant further exploration. For example, altruistic compliers were expected to be most responsive to a nudge based on their value systems. However, their filing and payment compliance rates, and their low proportion of late taxes owed, suggest that they are already among the most compliant segment of the closely-held business population despite their comparatively weak financial situations. It is possible that nudges are less effective with this segment because they are confident that they are already compliant, because their weaker financial situations impedes their ability to pay more, or both. Pseudo-compliers and situational non-compliers were also among the least responsive segments to a nudge. These segments share a skeptical view towards the role of government and are among the most payment non-compliant despite being the wealthiest. The differences between the segments suggest that the CRA could do more to target, optimize, and monitor its nudge efforts. Given the potential using and applying behavioral data to nudging, alternative strategies to addressing these segments should be explored.\\nImplications for CRA nudge experimentation structures, mechanisms, and processes are discussed in section 4.3.1.\\nRecommendation 1\\nSIIB should develop BE research standards for the Agency outlining the required steps in establishing rigorous behaviour-centric segmentation, specific to the appropriate target groups (treatment groups) and desired outcomes.\\nManagement response\\nThe Service, Innovation and Integration Branch agrees with this recommendation.\\nBehavioural Economics has increasingly been used to develop nudge techniques in an effort to increase voluntary compliance, service provision and internal operations. In order to design effective nudge interventions, the most suitable nudge intervention for a given project will capitalize on both the cause of the behavioural issue and specific characteristics of the target population. Both rest on the availability of data and its reliability.\\nSIIB, in consultation with CRA stakeholders will:\\nEstablish a “BE Research Standard” that codifies the controls required in the course of BE research (Q4 2022-2023).\\nAssess the viability of applying third party attitudinal survey data to CRA micro data (Q3 2022-2023).\\nEstablish and maintain a list of experts that can be consulted for BE Research (Q2 2022-2023).\\n4.3 Many of the concerns regarding CRA nudge experimentations can be traced to a culture and practice of vertical rather than horizontal integration.\\nThe CRA’s functional model reinforces vertical integration, as different branches specialize in processes, tax lines, and compliance activities. Within this structure, quantitative behavioural research teams are mandated to serve the nudge experimentation needs of their own branches, rather than embrace the Chief Service Officer’s mandate to employ a “client-centric lens in its development of service strategies.”\\nFootnote\\n20\\nCRA nudge efforts have evolved within this operating framework, yet they are different because, unlike other forms of research, they impact the taxpayer directly.\\nThe CRA has the resources to develop taxpayer-centric segments. It has highly skilled nudge research communities within several of its branches, its own public opinion research function, and one of the single largest data repositories of Canadians’ behaviour (for example, filing and payment behaviours).\\nDespite these resources, the CRA has not been able to leverage these resources to create its own taxpayer-centric segmentation system for nudge purposes. As almost all surveys do not collect personal identifiable taxpayer information, it is not feasible to join this information with the behavioural and attitudinal data collected by the CRA at the individual level. Privacy and ethical practices also do not support joining personal identifiable taxpayer information to the attitudes and opinions of the individuals. This disconnect between these two types of information impacts their use in practice when CRA nudge experiments are developed and carried out.\\nThe following section reviews the structures, mechanisms, and processes that support current nudge efforts, and highlights some of the impacts associated with these findings. Overall, there appears to be numerous ways that the CRA could increase its cross-branch, or horizontal, collaboration, which could positively impact taxpayers, researchers, and management.\\n4.3.1 The challenges nudge researchers face with CRA data are complex, leading them to spend a significant\\nElements of the Agency Digital Business Strategy\\nFootnote\\n21\\nimply data quality is a priority, including references to “reducing the burden on Canadians by leveraging data and emerging technologies,” solutions that perform real-time analysis, and “agile and risk informed decision-making.”\\nThe evaluation team conducted a survey of 45 CRA data users\\nFootnote\\n22\\n, and examined their experiences related to the locating, understanding, obtaining, and verifying of data quality on their current or most recently completed projects. The common element underlying many of their concerns (such as a lack of documentation or identifying an owner) was the need for confidence in their data prior to analyzing it. Overall, they spent 31% of their time ensuring data was of a high quality, while another 53% of their time was spent locating and understanding the data.\\nOverall, the majority of CRA data users felt that the CRA had the potential to improve their data experience by facilitating their “understanding of data” or “locating of data.”\\nIn addition, nudge researchers revealed that they sometimes wait months to obtain data, which has led to delaying or redirecting their projects. Specifically, obtaining address data is a challenge for nudge researchers. Currently, the CRA requires a mailing address from T1 filers, not a home address. The evaluation team’s data analysis found that 19.5% of business owners who were nudged in early 2020 (for not filing their corporate return) did not report a valid residential address. Postal boxes are not where the taxpayer actually resides, limiting the value of postal-code-level insights.\\nThe evaluation team also identified concerns in the two-way communications with the data user community. The evaluation team ran a test that identified how transformations to original source data made some records appear differently in the Agency Data Warehouse\\nFootnote\\n23\\n, a problem that the Information Technology Branch committed to address when notified. At the time of writing, users had not been informed of the data error in a systematic way, and user support documentation has not been updated. Additionally, apart from the evaluation team’s survey, only one other survey has been conducted with CRA data users over the past five years. We found that the previous survey did not provide a full picture of data user experiences, including concerns regarding their levels of trust in the quality of the data.\\nThe Service, Innovation and Integration Branch and the Information Technology Branch have recently launched numerous data quality initiatives such as the data quality framework, the data stewardship program, and the Agency Metadata Repository. While there were numerous references to improving data quality in the Service, Innovation and Integration Branch and the Information Technology Branch in senior management annual performance accords, the evaluation team could not find anyone explicitly accountable for monitoring and continuously improving the data user experience.\\n4.3.2 There is a lack of minimum, common standards regarding nudge details.\\nThe CRA developed the CRA Nudge Development Guide to support nudge researchers, including those conducting experiments on the small business population. While this guidance document is comprehensive, there is no horizontal mechanism in place that monitors whether it is followed. As a result, the CRA appears to rely on researcher judgement at the branch level rather than ensuring there are minimum standards across branches regarding some methodological details. Subtle differences in approaches could make it a challenge for senior management to monitor success and strategically deploy CRA resources towards nudge campaigns.\\nFor example, contrary to the advice in the CRA Nudge Development Guide, two of the nudge studies used in this evaluation’s nudge analysis did not create a control group. A control group provides baseline information regarding how many people would undertake the desired behaviour without any intervention. In these two instances, post hoc control groups were developed based on taxpayer-requested adjustments during a comparable time period.\\nFurther, different combinations of success criteria were used across nudge studies, and the number of measures varied between one and eight. Some of these criteria were found to be statistically significant, while others were not. This made it challenging for the evaluation team to determine whether one nudge experiment was more successful than another.\\nPart of the nudge planning process is to review previous research related to the targeted population, such as small businesses, in order to gain understanding of the population, the drivers of its compliance behaviour, and risk factors associated with different pockets of the population. We noted concerns regarding the documentation and usage of small business research that could potentially feed nudge research decisions. For example, in one analysis, the top 1% of the closely-held taxpayer population represented 37% of debt on initial assessment and 47% of the total debt 90 days after the assessment (in other words, a large proportion of the population). Such skewness is common, yet many reports that the evaluation team reviewed made no mention of outliers or extreme values in their reports.\\n4.3.3 Impacts of this evaluation on key stakeholder groups\\nThe findings identified above impact different CRA stakeholders in different ways. Nudge researchers, field staff, management, and authors of the CRA Nudge Development Guide are considered below.\\nNudge researchers and field staff\\nNudge researchers indicated that not all of their research reports are available in the CRA’s central repository for research. Reasons cited include:\\na lack of storage space\\ntheir reports are too complex and external readers would not understand them\\nsome of their reports are actually a measurement of the performance of taxpayer compliance\\nthey tend to require approval from their field clients or program areas, who might prefer that the results are not widely shared\\nThere was no evidence that any branch’s nudge research cited (much less attempted to replicate) the research of another branch, nor was there any evidence of cross-branch (inter-disciplinary) collaboration on published reports. Additionally, although nudge researchers review their work within their branch and with their functional clients, there was no evidence of cross-branch peer review either prior to launching the nudge (to ensure its approach meets minimum standards) or after the launch.\\nIn addition, there is no central repository through which to post, share, or access nudge results data or to know which taxpayers have been contacted and have responded to a nudge. Nudge responses are not evaluated across branches to recognize and act on patterns that could initiate the development of a taxpayer-centric segmentation system.\\nNudge field staff have a high demand for research, but there is a disconnect between published research and its usability in the field. When employees were asked how this information is used, different perspectives emerged. On the one hand, CRA nudge managers receive individual taxpayer data showing (possible) non-compliance, including personal contact information. On the other hand, CRA nudge managers can also access CRA research that has combined compliance or behavioural and attitudinal data, but they do not know who the individuals are or how to contact them. The two types of research exist in parallel, with no ability to integrate them.\\nSome field staff revealed that they are building their own data analysis groups to meet their unique needs.\\nOverall, the unavailability of self-serve options for accessing nudge data and detailed methodologies has made the re-using and learning from previous nudges impractical and time consuming.\\nA more horizontally integrated research community can support nudge researchers by:\\nfacilitating the replication of research through the sharing of data and processes\\npromoting cross-branch collaboration that takes a taxpayer-centric view\\nproviding an independent lens to challenge research findings prior to conducting field work and publication\\nManagement\\nThe current organizational design might not be optimizing the relationship between accountabilities and expertise, and this is relevant because unlike other research, nudge efforts directly impact targeted taxpayers.\\nAccording to interviewees, there is a tendency for nudge activities to be prioritized, planned, and administered by Headquarters and field program staff. However, instead of being involved from the initial planning stage, this model tends to limit CRA research and communications expertise to mostly advisory roles in the nudge management process.\\nOn the research side, this practice represents a barrier to developing minimum methodological nudge standards, and as long as such standards are not adhered to, the CRA could be challenged in its sharing, aggregating, and monitoring of overall nudge results. This, in turn could impact the CRA’s ability to optimally implement its non-audit treatments/nudge activities. On the communications side, the CRA cannot easily know which taxpayer has received which message, whether the message was appropriate or optimal, and whether the same taxpayer has been targeted multiple times.\\nAlthough each research team measures and documents its nudge results, there was no evidence of a CRA-wide nudge monitoring strategy. With the reliance on researcher judgement, no central repository to store and mine previous nudge results, and a wide variety of success criteria employed, it can be a challenge, at the CRA level, to know which nudges have been more or less effective and why, impacting the CRA’s ability to deploy nudge resources in a strategic fashion.\\nUpdates to the CRA Nudge Development Guide\\nThe evaluation team’s analysis suggests several claims from the CRA Nudge Development Guide could be re-visited based on the findings stated throughout this report.\\nRecommendation 2\\nThe Service, Innovation and Integration Branch, with the support of the program branches, should improve collaboration and sharing of small business nudge related research and projects across the Agency.\\nManagement response\\nThe Service, Innovation and Integration Branch agrees with this recommendation.\\nSIIB recognizes the need for further collaboration and sharing of nudge research across the Agency. SIIB houses the Centre for Excellence in Behavioural Economics Research (CEBER), which promotes methodological rigour in Agency nudge activities.\\nSIIB will improve functionality of the Agency Research Inventory that facilitates sharing and identification of BE research (Q4 2022-2023).\\nSIIB, through the planned relaunch of the Research Network, will act as a hub for analysts across the Agency to share their work (Q3 2022-2023).\\nRecommendation 3\\nThe Service, Innovation and Integration Branch, with the support of the program branches, should improve small business nudge monitoring and reporting.\\nManagement response\\nThe Service, Innovation and Integration Branch agrees with this recommendation.\\nBehavioural economics research in the CRA is distributed across different program areas. To provide an enterprise-level view of nudge projects, SIIB will develop a mechanism of annual reporting on nudges, including small businesses.\\nSIIB will establish guidelines for data analysis of nudge and behavioural economics activities, including a “BE Research Standard” that codifies the controls required in the course of BE research (Q2 2023-2024).\\nSIIB, in consultation with other CRA stakeholders, will develop a mechanism of annual reporting on nudges including small businesses (Q4 2023-2024).\\n5. Conclusion\\nTax administrations around the world have started using behavioural insights to improve their relationships with taxpayers. Nudging has the potential to have a positive impact on taxpayer services and compliance, and it is consistent with CRA strategies of putting people first and customizing its service offering and its messaging to the different segments it serves.\\nWhile the CRA has undertaken many initiatives in nudging taxpayers in the past, the advancements in the areas of behavioural insights, the CRA’s investments in data analytics tools and skills, and the CRA’s openness to a more iterative and lean approach of continuous improvement provide good conditions for making further advancements in the way the CRA facilitates voluntary compliance.\\nThe recommendations and action plans developed have the potential to help the CRA reach its objectives in serving the diversity of its small business client base. This said, AERB will conduct a follow-up assurance engagement after allowing adequate time for key action plan items to be completed to determine whether any gaps continue to exist and what opportunities should be further explored.\\n6. Acknowledgement\\nIn closing, the evaluation team would like to acknowledge and thank the branches for the time dedicated and the information provided during the course of this engagement: the Assessment, Benefit, and Service Branch; the Collections and Verification Branch; the Compliance Programs Branch; the Information Technology Branch; the Public Affairs Branch; and the Service, Innovation, and Integration Branch.\\n7. Appendices\\nAppendix A: Evaluation issues and methodology\\nIssue 1: What outcomes are being achieved in the small business ownership population?\\nWhat are these businesses’ perceptions of and experiences with the CRA?\\nWhat are the compliance trends of this population with multiple tax obligations?\\nIssue 2: In what ways could a full taxpayer view impact the CRA’s administration of the small business population?\\nIn what ways could a full taxpayer view impact current monitoring and reporting approaches to this population?\\nCan current operating assumptions regarding risk scoring, file selection, resource allocation, governance, coordination, technology, and legal frameworks be validated using a full taxpayer view?\\nThese two issues will be studied over a series of reports. The first report, “Audit Yield,” was presented in November 2019. The current report is the second in this series. This report examines the labels and definitions surrounding “business” at the CRA and elsewhere. It summarizes the similarities and differences between the overall T1 and T2 populations and highlights any data-related experiences encountered. Among other things, the analysis explores the nature of an individual’s dependence on their business income in order to support data-driven decision-making around definitions of “small business.”\\nMethodology\\nThe methodologies for examination included the following:\\ndata analysis of four years (2014-2017) of:\\nfiling and payment compliance\\nsources of household and business income\\nthe purchase of a temporary, three-month trial subscription, which provided access to a segmentation system and the social values, wealth profiles, and demographics of Canadians\\nnudge results from 2015, 2016, 2017, and 2020 pilot projects administered by the CRA\\ndocument reviews, including 400 reports from both the Agency Research Inventory and the Business Intelligence Reference System, and benchmarking of best practices with Organisation for Economic Co-operation and Development countries\\ninternal interviews and focus groups with CRA employees\\nexternal interviews with other Government of Canada employees\\nsurvey of CRA employees who obtain, extract, and prepare data, also referred to as “data users”\\nA third-party segmentation system was purchased on a temporary licence in order to understand the attitudinal, lifestyle, and wealth profiles of the CRA’s nudged population. This segmentation system attributes, to each postal code, a specific segment based on the social, economic, and attitudinal attributes attached to each postal code.\\nThe evaluation team used two approaches: one that used the third-party segmentation system as is, and the other consisted of creating an in-house segmentation system using the aggregated statistics, and then combining the behavioural and administrative data to the segmentation data.\\nThe algorithm used in the development of the segmentation system has a small level of instability, where one in every five records can belong to a different segment when the algorithm is replicated. This instability is expected in social sciences, and does not impact the overall analysis and findings.\\nAppendix B: List of reports for the thematic evaluation\\nThis multi-year thematic approach to business compliance will respond to the issues and research questions listed above by generating a series of reports whose content varies in depth and breadth. The evaluation team will periodically review the series and will provide updates to the Management Audit and Evaluation Committee to ensure continued relevance and feasibility. This approach enables the evaluation team to remain agile in responding to senior management’s needs, which could be shaped by findings in the reports.\\nThe CRA’s exploration of this theme began in 2018 with the framework for the Evaluation of CRA Information Resources for Small Businesses. That evaluation examines the extent to which a variety of CRA information resources facilitate small business compliance as well as how effective the CRA’s administration is in this area.\\nWave 1 reports\\nAudit Yield\\n– This report assessed how effectively the CRA successfully recovers amounts from most of its business-related income tax (and an update on GST/HST\\nFootnote\\n24\\n) audits within a given timeframe. It examined integrated, population-level performance measures that take into account the results of activities across multiple branches or functions. It explored recent, multi-year tracking of CRA business audit efforts across the T2, T1, GST/HST, and payroll tax lines. Such a horizontal indicator would assess the CRA’s effectiveness in resolving audit re-assessments (for example, estimating how much extra in tax dollars are generated as a result of audit work that targets business).\\nCurrent report: CRA Management of Small Business Nudge\\n– This report assessed the aggregated comparability, stability, and practicality of segmenting and managing small business data. It examines the labels and definitions surrounding “small business” at the CRA and elsewhere. It summarizes the similarities and differences between the overall T1 and T2 populations and highlights any data-related experiences encountered. Among other things, the analysis explores the nature of an individual’s dependence on their business income in order to support data-driven decision-making around definitions of “small business.” In March 2021, the evaluation team advised the Management Audit and Evaluation Committee along with the Audit Committee of the Board of Management that this report would also evaluate the CRA’s nudging of businesses.\\nAppendix C: Glossary\\nGlossary\\nTerm\\nDefinition\\nAgency Data Warehouse (ADW)\\nThe ADW is a data repository that stores corporate, sharable data from over 55 CRA business operational systems in a manner suitable for use in Business Intelligence (BI) analysis, research, and reporting.\\nInferential study\\nInferential studies focus on finding relationships and making predictions or generalizations about a larger dataset, based on a set of collected data.\\nNudge\\nA nudge is an intervention technique that targets individuals’ economic decision-making process in order to facilitate behaviour change. The intervention typically adds, changes, or re-arranges information that individuals use to make specific economic decisions (for example, saving, spending, reporting income, and paying debts) in an effort to increase desired behaviour or decrease undesired behaviours. Nudge techniques are characterized by their subtle and encouraging nature. Sending educational letters to taxpayers who are at risk of under-reporting their income, to inform them on what income should be reported and to correct errors after the fact, is an example of a nudge.\\nPersona\\nCRA personae are fictional characters representing the key audience segments that use the CRA’s products and services. Although the individuals are not real, they are based on data and research about actual users. The five CRA personae are:\\nPersona 1: Tax Service Provider – Wayne\\nPersona 2: Business Owner – Beatrice\\nPersona 3: Typical Tax-filer – Lara\\nPersona 4: Vulnerable – Fatima\\nPersona 5: Needs help with taxes – Nate\\nSegmentation\\nSegmentation analysis attempts to obtain and analyze an individual’s attitudes, behaviours, financial situations, demographics, and other tendencies. This data is used to group like-minded and similarly-situated individuals to determine the optimal way of communicating with them.\\nTrend\\nA trend is a pattern found in data; it is used to describe if the data is showing an upward or downward movement for part, or all of, the time.\\nFootnotes\\nFootnote 1\\nA nudge is an intervention technique that targets individuals' economic decision-making processes in order to facilitate a behaviour change (CRA Nudge Guide). The CRA has been implementing nudges for approximately 10 years.\\nReturn to footnote\\n1\\nFootnote 2\\nThe CRA can use nudge techniques to encourage behaviours in a variety of ways beyond tax compliance (e.g. encouraging benefits uptake). This evaluation examines nudges as they specifically apply to encourage tax compliance among the small business population.\\nReturn to footnote\\n2\\nFootnote 3\\nCRA’s Nudge Development Guide (accessible only on the Government of Canada network)\\nReturn to footnote\\n3\\nFootnote 4\\nBehavioural Insights for Better Tax Administration: A Brief Guide\\nReturn to footnote\\n4\\nFootnote 5\\nForum on tax administration, Organisation for Economic Co-operation and Development, 2021; Behavioural Insights for Better Tax Administration\\nReturn to footnote\\n5\\nFootnote 6\\nThaler, R and Sunstein, C, 2008. Nudge: improving decisions about health, wealth, and happiness. New Haven: Yale University Press.\\nReturn to footnote\\n6\\nFootnote 7\\n2018 Serving You Better consultations with small and medium businesses\\nReturn to footnote\\n7\\nFootnote 8\\nForum on tax administration, Organisation for Economic Co-operation and Development, 2021; Behavioural Insights for Better Tax Administration\\nReturn to footnote\\n8\\nFootnote 9\\nThis period of data was selected and extracted in 2020 given the relative stability of the taxpayers’ accounts (for example, appeals rights had been exhausted or late filers were captured)\\nReturn to footnote\\n9\\nFootnote 10\\nUsing the Nudge in Tax Compliance: Leveraging Behavioral Insights to Boost Tax Revenues. Deloitte Consulting LLP\\n.\\nReturn to footnote\\n10\\nFootnote 11\\nFor example, small businesses generate between 11% and 58% of the net income of all businesses.\\nReturn to footnote\\n11\\nFootnote 12\\nSmall & Medium Enterprises Directorate, Strategic Business Plan, The right intervention for the risk, Fiscal Year 2015 to 2018. According to this report, “Implementing ‘the right intervention for the risk’ means that we seek to find the least intrusive and most economical way to promote compliance. A range of interventions will be deployed to reach the most taxpayers possible within the SME population. Soft interventions or nudge approaches will be used instead of after-the-fact audit interventions where these less intrusive methods are more effective in ensuring compliance. While still an important part of our mandate, audits and penalties are reserved for the most serious cases of non-compliance.”\\nReturn to footnote\\n12\\nFootnote 13\\nCRA personas (accessible only on the Government of Canada network)\\nReturn to footnote\\n13\\nFootnote 14\\nRatio of the average taxpayer debt per segment after 90\\xa0days based on the average taxes owing per segment on initial assessment over a four-year period.\\nReturn to footnote\\n14\\nFootnote 15\\nAverage liquid assets per segment.\\nReturn to footnote\\n15\\nFootnote 16\\nOverall ranking of response rates to all nudges studied.\\nReturn to footnote\\n16\\nFootnote 17\\nCombined average of the T1/T2 filing non-compliance over a four-year period.\\nReturn to footnote\\n17\\nFootnote 18\\nRanked by aggregated averages per segment of paying in full on time over a four-year period.\\nReturn to footnote\\n18\\nFootnote 19\\nConditions refer to the 11 experimental groups used in previous CRA nudge campaigns.\\nReturn to footnote\\n19\\nFootnote 20\\nPutting people first at the Canada Revenue Agency\\nReturn to footnote\\n20\\nFootnote 21\\nUpdate: Digital Business Strategy 2020-2022 (accessible only on the Government of Canada network)\\nReturn to footnote\\n21\\nFootnote 22\\nThe survey was directed at CRA employees who obtain, extract, and prepare data (e.g. power BI users).\\nReturn to footnote\\n22\\nFootnote 23\\nThe Agency Data Warehouse holds taxpayer data from over 50 CRA databases.\\nReturn to footnote\\n23\\nFootnote 24\\nEvaluation Study – Horizontal Compliance Management: GST/HST Audit Programs\\n, 2018\\nReturn to footnote\\n24\\nReport a problem or mistake on this page\\nPlease select all that apply:\\nA link, button or video is not working\\nIt has a spelling mistake\\nInformation is missing\\nInformation is outdated or wrong\\nLogin error when trying to access an account\\nI can't find what I'm looking for\\nOther issue not in this list\\nSubmit\\nThank you for your help!\\nYou will not receive a reply. For enquiries,\\ncontact us\\n.\\nDate modified:\\n2022-09-16\""
            ],
            "application/vnd.google.colaboratory.intrinsic+json": {
              "type": "string"
            }
          },
          "metadata": {},
          "execution_count": 98
        }
      ]
    },
    {
      "cell_type": "code",
      "source": [
        "#filter stopwords with nltk\n",
        "import nltk\n",
        "import io\n",
        "from nltk.corpus import stopwords\n",
        "from nltk.tokenize import word_tokenize\n",
        "\n",
        "nltk.download('stopwords')\n",
        "\n",
        "# word_tokenize accepts\n",
        "# a string as an input, not a file.\n",
        "stop_words = set(stopwords.words('english'))\n",
        "#file1 = open(\"text.txt\")\n",
        "\n",
        "# Use this to read file content as a stream:\n",
        "#line = file1.read()\n",
        "words = data.split()\n",
        "for r in words:\n",
        "    if not r in stop_words:\n",
        "        appendFile = open('filteredtext.txt','a')\n",
        "        appendFile.write(\" \"+r)\n",
        "        appendFile.close()\n",
        "\n",
        "with open('filteredtext.txt', 'r') as file:\n",
        "    data = file.read().replace('\\n', '')"
      ],
      "metadata": {
        "colab": {
          "base_uri": "https://localhost:8080/"
        },
        "id": "CQAqM8qCagzx",
        "outputId": "717745dc-83d6-4b76-955a-98faa3d9c0c5"
      },
      "execution_count": null,
      "outputs": [
        {
          "output_type": "stream",
          "name": "stderr",
          "text": [
            "[nltk_data] Downloading package stopwords to /root/nltk_data...\n",
            "[nltk_data]   Package stopwords is already up-to-date!\n"
          ]
        }
      ]
    },
    {
      "cell_type": "code",
      "source": [
        "data"
      ],
      "metadata": {
        "colab": {
          "base_uri": "https://localhost:8080/",
          "height": 123
        },
        "id": "xL6uH2y8gI85",
        "outputId": "bf3b61d3-27cd-4856-d606-3139609ededa"
      },
      "execution_count": null,
      "outputs": [
        {
          "output_type": "execute_result",
          "data": {
            "text/plain": [
              "\" Evaluation – Canada Revenue Agency (CRA) Management Small Business Nudge Final Report Audit, Evaluation, Risk Branch June 2022 On page Executive summary 1. Introduction 2. Background 3. Evaluation methodologies 4. Findings, recommendations, management response 4.1 There standard definition “small business” CRA, none takes taxpayer-centric view. The evaluation team developed concept “closely-held” business address gap. 4.2 A taxpayer-centric segmentation approach could enhance CRA nudge impacts small businesses. 4.3 Many concerns regarding CRA nudge experimentations traced culture practice vertical rather horizontal integration. 5. Conclusion 6. Acknowledgement 7. Appendices Appendix A: Evaluation issues methodology Appendix B: List reports thematic evaluation Appendix C: Glossary Executive summary This evaluation second series evaluations small business adm Evaluation – Canada Revenue Agency (CRA) Management Small Business Nudge Final Report Audit, Evaluation, Risk Branch June 2022 On page Executive summary 1. Introduction 2. Background 3. Evaluation methodologies 4. Findings, recommendations, management response 4.1 There standard definition “small business” CRA, none takes taxpayer-centric view. The evaluation team developed concept “closely-held” business address gap. 4.2 A taxpayer-centric segmentation approach could enhance CRA nudge impacts small businesses. 4.3 Many concerns regarding CRA nudge experimentations traced culture practice vertical rather horizontal integration. 5. Conclusion 6. Acknowledgement 7. Appendices Appendix A: Evaluation issues methodology Appendix B: List reports thematic evaluation Appendix C: Glossary Executive summary This evaluation second series evaluations small business adm Evaluation – Canada Revenue Agency (CRA) Management Small Business Nudge Final Report Audit, Evaluation, Risk Branch June 2022 On page Executive summary 1. Introduction 2. Background 3. Evaluation methodologies 4. Findings, recommendations, management response 4.1 There standard definition “small business” CRA, none takes taxpayer-centric view. The evaluation team developed concept “closely-held” business address gap. 4.2 A taxpayer-centric segmentation approach could enhance CRA nudge impacts small businesses. 4.3 Many concerns regarding CRA nudge experimentations traced culture practice vertical rather horizontal integration. 5. Conclusion 6. Acknowledgement 7. Appendices Appendix A: Evaluation issues methodology Appendix B: List reports thematic evaluation Appendix C: Glossary Executive summary This evaluation second series evaluations small business administration Canada Revenue Agency (CRA). The purpose engagement provide Commissioner, CRA management, Board Management assessment CRA’s nudge Footnote 1 efforts applied Footnote 2 encouraging tax compliance among small business population. This report also examines CRA’s multiple definitions “small business” CRA’s data user experiences terms using CRA data conduct nudge activities. Nudge experimentation relies understanding small business taxpayer’s behaviours, attitudes, operating context. As result, nudge success depends horizontal governance related factors areas research data. When properly targeted designed, nudge intervention innovative cost-effective way facilitate voluntary compliance desired outcome Footnote 3 . Nudges, letter telephone reminders, intended encourage desired behaviours, helping taxpayers comply tax obligations, minimizing burden them. Traditional compliance strategies, audits, labour-intensive limited reach, nudges tend cost-effective wider reach. According Organisation Economic Co-operation Development’s Forum Tax Administration (2021), data-driven understanding human behaviour improve taxpayer customer services optimize enforcement strategies, including nudges. In context nudges, could circumstances segmenting large, diverse populations worthwhile. The process segmenting identifies distinctive sub-groups tend share certain demographics, behaviours, social values, attributes within population Footnote 4 . Findings The evaluation found that: standard definition “small business” CRA, none takes taxpayer-centric view; evaluation team developed concept “closely-held” business address gap taxpayer-centric segmentation approach (for example, using blend behavioural, attitudinal, context data reach meaningful understanding taxpayer group) enhance CRA nudge impacts small businesses many concerns regarding CRA small business nudge research traced culture practice vertical rather horizontal integration Summary recommendations The Service, Innovation Integration Branch develop Behavioral Economics research standards Agency outlining required steps establishing rigorous behaviour-centric segmentation, specific appropriate target groups (treatment groups) desired outcomes. The Service, Innovation Integration Branch, support program branches, improve collaboration sharing small business nudge related research projects across Agency. The Service, Innovation Integration Branch, support program branches, improve small business nudge monitoring reporting. Management response The Service, Innovation Integration Branch (SIIB) agrees three recommendations report developed related action plans. The Audit, Evaluation, Risk Branch (AERB) determined appear reasonable address recommendations. After allowing adequate time key action plan items completed, AERB conduct follow-up assurance engagement determine whether gaps continue exist opportunities explored. Regarding first recommendation, SIIB recognizes Behavioural Economics (BE) increasingly used develop nudge techniques effort increase voluntary compliance, service provision internal operations. In order design effective nudge interventions, suitable nudge intervention given project capitalize cause behavioural issue specific characteristics target population. Both rest availability data reliability. SIIB, consultation CRA stakeholders will: Establish “BE Research Standard” codifies controls required course BE research (Q4 2022-2023). Assess viability applying third party attitudinal survey data CRA micro data (Q3 2022-2023). Establish maintain list experts consulted BE Research (Q2 2022-2023). As second recommendation, SIIB recognizes need collaboration sharing nudge research across Agency. SIIB houses Centre Excellence Behavioural Economics Research (CEBER), promotes methodological rigour Agency nudge activities. SIIB improve functionality Agency Research Inventory facilitates sharing identification BE research (Q4 2022-2023). SIIB, planned relaunch Research Network, act hub analysts across Agency share work (Q3 2022-2023). Finally, response third recommendation, noted behavioural economics research CRA distributed across different program areas. To provide enterprise-level view nudge projects. SIIB establish guidelines data analysis nudge behavioural economics activities, including “BE Research Standard” codifies controls required course BE research (Q2 2023-2024). Develop mechanism annual reporting nudges, including small businesses (Q4 2023-2024). 1. Introduction A thematic evaluation “small business administration” first included Board Management approved Risk-Based Audit Evaluation Plan 2018 2021 overarching evaluation framework approved Management Audit Evaluation Committee May 30, 2019 . This thematic evaluation divided series reports. The first report, “Audit Yield,” presented Management Audit Evaluation Committee November 2019. This report second series. This evaluation started exploring following areas: definitions “small business” Canada Revenue Agency (CRA) T1 T2 population compliance trends data-related experiences encountered One commitments thematic evaluation approach provide Management Audit Evaluation Committee Audit Committee Board Management (Board) periodic progress reports. The interim report presented Management Audit Evaluation Committee March 2021 Audit Committee Board April 2021, respectively. During meetings, original wave two commitment evolved terms refining examination T1 T2 trends focusing CRA nudge compliance efforts aimed small business community. Nudges relate small business compliance became focus evaluation several reasons: using nudge techniques influence desired behaviours outcomes taxpayer low-cost method potentially achieving greater compliance results CRA minimizing contact burden taxpayer using behavioural insights nudges widely accepted practice improving tax administrations evidenced recent guide Footnote 5 published Organization Economic Co-operation Development opportunities exist advance segmentation nudging integrating third-party data (such behavioural data) develop meaningful understanding taxpayer (in words, create taxpayer-centric perspective) extensive review CRA literature consultations key stakeholders revealed horizontal approach applying nudge techniques applied small business across CRA, thereby limiting measured progress field As result, evaluation team: identified new sub-set small businesses (in words, 5.7M “closely-held” businesses – explained Section 4) developed taxpayer-centric segmentation system using third-party data (such attitudinal data) blended CRA data, tested system past small business nudge compliance campaigns determine value 2. Background The purpose engagement provide Commissioner, CRA management, Board Management assessment CRA nudge efforts lens taxpayer-centric approach segmenting small business population. This report also examines CRA’s multiple definitions “small business,” CRA’s data user experiences. Thaler Sunstein (2008) described “nudge” changing someone’s behaviour predictable ways without remove options changing economic incentives Footnote 6 . The nudge literature suggests known nudge recipient, easier could tailor messages appeal them, thereby improving chances nudge succeed. The CRA’s activities serve wide audiences within small business population. Based information needs, vast majority businesses either T1 self-employed T2 owner-operated filers. As result, strategic level, CRA tended communicate small businesses single segment. “Serving Better,” small business consultation reporting bi-annual reporting cycle, consistent approach Footnote 7 . From compliance perspective, CRA’s nudge efforts tended either applied industrial sector, entire population non-compliance, T2 non-filers, specific aspect reporting. Some nudges broken tax line. Nudge techniques used many tax administrations evidence suggest work. The Organisation Economic Co-operation Development (2021) report behavioural insights Footnote 8 provides overview use impact nudges numerous tax administrations. For example, one tax administration able reduce number taxpayers owing taxes 33%, another tax administration increased filing among prior non-filers much 15%, implementation targeted nudge letter campaigns. 3. Evaluation methodologies The evaluation team used following methodologies: data analysis four years (2014-2017) Footnote 9 of: filing payment compliance sources household business income purchase temporary, three-month trial subscription third-party data provider, provided access segmentation system social values, wealth profiles, demographics Canadians postal code level nudge results 2015, 2016, 2017, 2020 pilot projects administered CRA document reviews, including 400 reports Agency Research Inventory Business Intelligence Reference System, benchmarking best practices Organisation Economic Co-operation Development countries internal interviews focus groups CRA employees external interviews Government Canada employees survey CRA employees obtain, extract, prepare data, also referred “data users” Limitations research When managing data, taxpayer privacy paramount. Consistent privacy laws, third-party data (such social values behavioural data) purchased research modelled postal code level. While modelled postal-code-level data increases chances getting right message right person Footnote 10 , impossible link modelled data individual within postal code. Further, although improbable postal-code-level generalizations apply everyone residing postal code, analysis provides valuable contact information previous internal research using factors region, sex, industry code not. 4. Findings, recommendations, management response The recommendations presented report address issues high significance mandatory requirements. The Service, Innovation Integration Branch agree recommendations report developed related action plans. The Audit, Evaluation, Risk Branch determined appear reasonable address recommendations. 4.1 There standard definition “small business” CRA, none takes taxpayer-centric view. The evaluation team developed concept “closely-held” business address gap. There standard definition “small business” CRA. Most 17 definitions tend based revenue number employees, vary widely Footnote 11 . None definitions focus either individual T2 owner-operated corporation T1 self-employed sole proprietor. The evaluation team developed concept “closely-held business” segment address gap. It focuses individuals behind smaller businesses includes T1 self-employed T2 owner-operated corporations either single (or spousal) majority shareholder controlling interest (greater 90% corporation’s shares). This distinction important T2 corporations, ownership spread among multiple minority shareholders, requiring use criteria (such revenue number employees) distinguish small-, medium-, large-sized businesses. Overall, 2017, approximately 5.7 million closely-held businesses Canada, includes 4.5 million T1 self-employed 1.2 million T2 owner-operated corporations. Achieving taxpayer-centric view possible closely-held business definition focus individual operates business. The idea behind taxpayer-centric view try better understand attitudes, behaviours, situations, tendencies taxpayers order build relationships improve service compliance, addressing unique needs. Developing taxpayer-centric view small businesses could ideal of: multiple tax obligations might have, including T1, T2, GST/HST, payroll large numbers (they represent approximately 85% businesses Canada), coupled relatively low taxes payable These population characteristics also justify use nudge techniques. The Small Medium Enterprises Directorate Compliance Programs Branch developed report titled “The right intervention risk.” Footnote 12 This report states targeted approach CRA interventions preferred, audits enforcement action aimed serious non-compliance, less serious compliance risks treated using “softer,” less costly techniques initiatives, enhanced information resources, liaison officer programs, nudge campaigns. 4.1.1 Although CRA developed two small-business owner personae Footnote 13 , could used basis segmentation, currently limited use. Personae fictional representations segments, groups, individuals based attributes could reflect characteristics, values, behavioural tendencies. Their purpose increase organization’s understanding different groups serves. Their value lies clearly reveal drives different types individuals. Applying taxpayer-centric view small businesses lends creation unique personae. The evaluation team’s quantitative analysis revealed opportunity refine CRA’s business-related personae accurately reflect small business population. For example, CRA’s current “Nate” persona resembles 0 0.2% small businesses, “Beatrice” persona resembles 0 1.0% It noted personae intended web content developers others within Public Affairs Branch help increase sensitivity unique small business needs. As result, evidence these, personae, intended used basis nudge messaging. Further, given limited breadth, personae could used assess efficacy CRA nudge efforts. 4.2 A taxpayer-centric segmentation approach could enhance CRA nudge impacts small businesses. Mass marketing approaches communications typically send one message entire population. By contrast, idea behind segmentation identify distinctive sub-groups based respective tendencies within population (such closely-held businesses). This segmentation would based combination behavioural, demographic, social values, tendencies. Identifying segments way provides basis achieving specific goals, increasing possibility getting right message right person, key consideration small business nudge efforts. This section provides overview of: taxpayer-centric segmentation system developed evaluation team closely-held business population insights optimize results four CRA small business nudge initiatives (2015, 2016, 2017, 2020) 4.2.1 Overview taxpayer-centric segmentation system developed evaluation team The evaluation team found optimal number closely-held business segments six, result aligned previous CRA public opinion research. Table 1 includes following information segment: segment label percentage closely-held business population represents social value tendencies ranking filing payment compliance behaviours percentage taxes unpaid due ability pay, indication financial situation nudge response rank Table 1: Summary closely-held business taxpayer-centric segmentation system Segment label (% overall population) They tend value: Compliance rank % unpaid taxes (%) Footnote 14 Ability pay rank Footnote 15 Nudge response rank Footnote 16 Filing rank Footnote 17 Payment rank Footnote 18 Altruistic compliers (16%) Civil obedience, gov’t action, community 1 2 42 5 4 Deferent compliers (4%) Personal duty, civil disobedience, gov’t action, physical force 2 1 41 1 1 Pseudo compliers (41%) Respecting authority, private sector gov’t 3 4 44 3 5 Situational non-compliers (8%) Risk taking, traditional values, private sector gov’t, inequality inevitable 4 6 52 2 6 Potential non-compliers (25%) Civil disobedience, individualism, work ethic, inequality inevitable 5 3 58 6 2 Rebels (5%) Eliminating inequality, civil disobedience, individualism 6 5 54 4 3 As Table 1, above, illustrates, similarities differences segments emerge comparing information row. For example, altruistic compliers deferent compliers consistently filing payment compliant, two segments tend differ financial situations, social values, response CRA nudges. Pseudo compliers Situational non-compliers two segments tend value private sector government dealing societal issues. They also likely good financial health less likely respond CRA nudges. However, remaining social values diverge, situational non-compliers likely payment non-compliant carry larger portion tax debt. Understanding tendencies situations segment assist CRA determine appropriate compliance actions segment closely-held business population. The next section describes proposed segmentation system applied within CRA. 4.2.2 Applying segmentation systems The CRA stated objective using right intervention risk. Within context nudge, means determining segments population likely respond compliance intervention, nudge, use insights improve non-compliance. This also means understanding segments likely respond nudge techniques using different compliance approaches segments. Table 1 highlights different segments population different response rates CRA nudge experiments. Deferent compliers responsive situational non-compliers least likely respond. The differences response rates segments highlights need enhanced monitoring. The evaluation team created indicator monitor optimize use nudge within specific segments closely-held business population. The indicator calculates percentage letters/contacts received taxpayers compared percentage responses subsequently received CRA. To optimize impact, CRA would nudge segments responsive limit letters sent least responsive. The evaluation team tested taxpayer-centric segmentation system using data collected four CRA nudge experiments. A summary test results found Table 2. Table 2: Frequency nudge optimization taxpayer-centric segment Impact Nudge conditions Footnote 19 applied segment Altruistic compliers Deferent compliers Pseudo compliers Situational non-compliers Potential non-compliers Rebels Overall averages Near-optimal 9% 64% 100% 64% 45% 82% 61% Sub-optimal 91% 36% 0% 36% 55% 18% 39% Overall, test results positive suggest CRA optimized return total 61% segments/nudge conditions included analysis. Based response rates, “pseudo-complier” “rebel” segments tended optimally targeted combined, two segments represent approximately half closely-held business population. The tests also revealed opportunities improvement targeting approach certain nudge experiments. In 39% conditions CRA nudge achieved sub-optimal impact either send enough nudges highly responsive segments sent many nudges largely unresponsive segments. For example, CRA could attempted reach taxpayers “potential non-complier” segment but, contrast, CRA sent many letters altruistic compliers. The evaluation team also tested third-party segmentation system using data collected four CRA nudge experiments. Overall, third-party segmentation system produced inconsistent results across various nudge experiments. A segments showed consistently average response rates produce detectable differences. This led evaluation team conclude taxpayer-centric segmentation system greater potential optimize future small business nudge performance. 4.2.3 Key takeaways segmentation system testing The observations emerging evaluation considered tentative based four previous nudge studies. Despite this, taxpayer-centric segmentation system raises questions warrant exploration. For example, altruistic compliers expected responsive nudge based value systems. However, filing payment compliance rates, low proportion late taxes owed, suggest already among compliant segment closely-held business population despite comparatively weak financial situations. It possible nudges less effective segment confident already compliant, weaker financial situations impedes ability pay more, both. Pseudo-compliers situational non-compliers also among least responsive segments nudge. These segments share skeptical view towards role government among payment non-compliant despite wealthiest. The differences segments suggest CRA could target, optimize, monitor nudge efforts. Given potential using applying behavioral data nudging, alternative strategies addressing segments explored. Implications CRA nudge experimentation structures, mechanisms, processes discussed section 4.3.1. Recommendation 1 SIIB develop BE research standards Agency outlining required steps establishing rigorous behaviour-centric segmentation, specific appropriate target groups (treatment groups) desired outcomes. Management response The Service, Innovation Integration Branch agrees recommendation. Behavioural Economics increasingly used develop nudge techniques effort increase voluntary compliance, service provision internal operations. In order design effective nudge interventions, suitable nudge intervention given project capitalize cause behavioural issue specific characteristics target population. Both rest availability data reliability. SIIB, consultation CRA stakeholders will: Establish “BE Research Standard” codifies controls required course BE research (Q4 2022-2023). Assess viability applying third party attitudinal survey data CRA micro data (Q3 2022-2023). Establish maintain list experts consulted BE Research (Q2 2022-2023). 4.3 Many concerns regarding CRA nudge experimentations traced culture practice vertical rather horizontal integration. The CRA’s functional model reinforces vertical integration, different branches specialize processes, tax lines, compliance activities. Within structure, quantitative behavioural research teams mandated serve nudge experimentation needs branches, rather embrace Chief Service Officer’s mandate employ “client-centric lens development service strategies.” Footnote 20 CRA nudge efforts evolved within operating framework, yet different because, unlike forms research, impact taxpayer directly. The CRA resources develop taxpayer-centric segments. It highly skilled nudge research communities within several branches, public opinion research function, one single largest data repositories Canadians’ behaviour (for example, filing payment behaviours). Despite resources, CRA able leverage resources create taxpayer-centric segmentation system nudge purposes. As almost surveys collect personal identifiable taxpayer information, feasible join information behavioural attitudinal data collected CRA individual level. Privacy ethical practices also support joining personal identifiable taxpayer information attitudes opinions individuals. This disconnect two types information impacts use practice CRA nudge experiments developed carried out. The following section reviews structures, mechanisms, processes support current nudge efforts, highlights impacts associated findings. Overall, appears numerous ways CRA could increase cross-branch, horizontal, collaboration, could positively impact taxpayers, researchers, management. 4.3.1 The challenges nudge researchers face CRA data complex, leading spend significant Elements Agency Digital Business Strategy Footnote 21 imply data quality priority, including references “reducing burden Canadians leveraging data emerging technologies,” solutions perform real-time analysis, “agile risk informed decision-making.” The evaluation team conducted survey 45 CRA data users Footnote 22 , examined experiences related locating, understanding, obtaining, verifying data quality current recently completed projects. The common element underlying many concerns (such lack documentation identifying owner) need confidence data prior analyzing it. Overall, spent 31% time ensuring data high quality, another 53% time spent locating understanding data. Overall, majority CRA data users felt CRA potential improve data experience facilitating “understanding data” “locating data.” In addition, nudge researchers revealed sometimes wait months obtain data, led delaying redirecting projects. Specifically, obtaining address data challenge nudge researchers. Currently, CRA requires mailing address T1 filers, home address. The evaluation team’s data analysis found 19.5% business owners nudged early 2020 (for filing corporate return) report valid residential address. Postal boxes taxpayer actually resides, limiting value postal-code-level insights. The evaluation team also identified concerns two-way communications data user community. The evaluation team ran test identified transformations original source data made records appear differently Agency Data Warehouse Footnote 23 , problem Information Technology Branch committed address notified. At time writing, users informed data error systematic way, user support documentation updated. Additionally, apart evaluation team’s survey, one survey conducted CRA data users past five years. We found previous survey provide full picture data user experiences, including concerns regarding levels trust quality data. The Service, Innovation Integration Branch Information Technology Branch recently launched numerous data quality initiatives data quality framework, data stewardship program, Agency Metadata Repository. While numerous references improving data quality Service, Innovation Integration Branch Information Technology Branch senior management annual performance accords, evaluation team could find anyone explicitly accountable monitoring continuously improving data user experience. 4.3.2 There lack minimum, common standards regarding nudge details. The CRA developed CRA Nudge Development Guide support nudge researchers, including conducting experiments small business population. While guidance document comprehensive, horizontal mechanism place monitors whether followed. As result, CRA appears rely researcher judgement branch level rather ensuring minimum standards across branches regarding methodological details. Subtle differences approaches could make challenge senior management monitor success strategically deploy CRA resources towards nudge campaigns. For example, contrary advice CRA Nudge Development Guide, two nudge studies used evaluation’s nudge analysis create control group. A control group provides baseline information regarding many people would undertake desired behaviour without intervention. In two instances, post hoc control groups developed based taxpayer-requested adjustments comparable time period. Further, different combinations success criteria used across nudge studies, number measures varied one eight. Some criteria found statistically significant, others not. This made challenging evaluation team determine whether one nudge experiment successful another. Part nudge planning process review previous research related targeted population, small businesses, order gain understanding population, drivers compliance behaviour, risk factors associated different pockets population. We noted concerns regarding documentation usage small business research could potentially feed nudge research decisions. For example, one analysis, top 1% closely-held taxpayer population represented 37% debt initial assessment 47% total debt 90 days assessment (in words, large proportion population). Such skewness common, yet many reports evaluation team reviewed made mention outliers extreme values reports. 4.3.3 Impacts evaluation key stakeholder groups The findings identified impact different CRA stakeholders different ways. Nudge researchers, field staff, management, authors CRA Nudge Development Guide considered below. Nudge researchers field staff Nudge researchers indicated research reports available CRA’s central repository research. Reasons cited include: lack storage space reports complex external readers would understand reports actually measurement performance taxpayer compliance tend require approval field clients program areas, might prefer results widely shared There evidence branch’s nudge research cited (much less attempted replicate) research another branch, evidence cross-branch (inter-disciplinary) collaboration published reports. Additionally, although nudge researchers review work within branch functional clients, evidence cross-branch peer review either prior launching nudge (to ensure approach meets minimum standards) launch. In addition, central repository post, share, access nudge results data know taxpayers contacted responded nudge. Nudge responses evaluated across branches recognize act patterns could initiate development taxpayer-centric segmentation system. Nudge field staff high demand research, disconnect published research usability field. When employees asked information used, different perspectives emerged. On one hand, CRA nudge managers receive individual taxpayer data showing (possible) non-compliance, including personal contact information. On hand, CRA nudge managers also access CRA research combined compliance behavioural attitudinal data, know individuals contact them. The two types research exist parallel, ability integrate them. Some field staff revealed building data analysis groups meet unique needs. Overall, unavailability self-serve options accessing nudge data detailed methodologies made re-using learning previous nudges impractical time consuming. A horizontally integrated research community support nudge researchers by: facilitating replication research sharing data processes promoting cross-branch collaboration takes taxpayer-centric view providing independent lens challenge research findings prior conducting field work publication Management The current organizational design might optimizing relationship accountabilities expertise, relevant unlike research, nudge efforts directly impact targeted taxpayers. According interviewees, tendency nudge activities prioritized, planned, administered Headquarters field program staff. However, instead involved initial planning stage, model tends limit CRA research communications expertise mostly advisory roles nudge management process. On research side, practice represents barrier developing minimum methodological nudge standards, long standards adhered to, CRA could challenged sharing, aggregating, monitoring overall nudge results. This, turn could impact CRA’s ability optimally implement non-audit treatments/nudge activities. On communications side, CRA cannot easily know taxpayer received message, whether message appropriate optimal, whether taxpayer targeted multiple times. Although research team measures documents nudge results, evidence CRA-wide nudge monitoring strategy. With reliance researcher judgement, central repository store mine previous nudge results, wide variety success criteria employed, challenge, CRA level, know nudges less effective why, impacting CRA’s ability deploy nudge resources strategic fashion. Updates CRA Nudge Development Guide The evaluation team’s analysis suggests several claims CRA Nudge Development Guide could re-visited based findings stated throughout report. Recommendation 2 The Service, Innovation Integration Branch, support program branches, improve collaboration sharing small business nudge related research projects across Agency. Management response The Service, Innovation Integration Branch agrees recommendation. SIIB recognizes need collaboration sharing nudge research across Agency. SIIB houses Centre Excellence Behavioural Economics Research (CEBER), promotes methodological rigour Agency nudge activities. SIIB improve functionality Agency Research Inventory facilitates sharing identification BE research (Q4 2022-2023). SIIB, planned relaunch Research Network, act hub analysts across Agency share work (Q3 2022-2023). Recommendation 3 The Service, Innovation Integration Branch, support program branches, improve small business nudge monitoring reporting. Management response The Service, Innovation Integration Branch agrees recommendation. Behavioural economics research CRA distributed across different program areas. To provide enterprise-level view nudge projects, SIIB develop mechanism annual reporting nudges, including small businesses. SIIB establish guidelines data analysis nudge behavioural economics activities, including “BE Research Standard” codifies controls required course BE research (Q2 2023-2024). SIIB, consultation CRA stakeholders, develop mechanism annual reporting nudges including small businesses (Q4 2023-2024). 5. Conclusion Tax administrations around world started using behavioural insights improve relationships taxpayers. Nudging potential positive impact taxpayer services compliance, consistent CRA strategies putting people first customizing service offering messaging different segments serves. While CRA undertaken many initiatives nudging taxpayers past, advancements areas behavioural insights, CRA’s investments data analytics tools skills, CRA’s openness iterative lean approach continuous improvement provide good conditions making advancements way CRA facilitates voluntary compliance. The recommendations action plans developed potential help CRA reach objectives serving diversity small business client base. This said, AERB conduct follow-up assurance engagement allowing adequate time key action plan items completed determine whether gaps continue exist opportunities explored. 6. Acknowledgement In closing, evaluation team would like acknowledge thank branches time dedicated information provided course engagement: Assessment, Benefit, Service Branch; Collections Verification Branch; Compliance Programs Branch; Information Technology Branch; Public Affairs Branch; Service, Innovation, Integration Branch. 7. Appendices Appendix A: Evaluation issues methodology Issue 1: What outcomes achieved small business ownership population? What businesses’ perceptions experiences CRA? What compliance trends population multiple tax obligations? Issue 2: In ways could full taxpayer view impact CRA’s administration small business population? In ways could full taxpayer view impact current monitoring reporting approaches population? Can current operating assumptions regarding risk scoring, file selection, resource allocation, governance, coordination, technology, legal frameworks validated using full taxpayer view? These two issues studied series reports. The first report, “Audit Yield,” presented November 2019. The current report second series. This report examines labels definitions surrounding “business” CRA elsewhere. It summarizes similarities differences overall T1 T2 populations highlights data-related experiences encountered. Among things, analysis explores nature individual’s dependence business income order support data-driven decision-making around definitions “small business.” Methodology The methodologies examination included following: data analysis four years (2014-2017) of: filing payment compliance sources household business income purchase temporary, three-month trial subscription, provided access segmentation system social values, wealth profiles, demographics Canadians nudge results 2015, 2016, 2017, 2020 pilot projects administered CRA document reviews, including 400 reports Agency Research Inventory Business Intelligence Reference System, benchmarking best practices Organisation Economic Co-operation Development countries internal interviews focus groups CRA employees external interviews Government Canada employees survey CRA employees obtain, extract, prepare data, also referred “data users” A third-party segmentation system purchased temporary licence order understand attitudinal, lifestyle, wealth profiles CRA’s nudged population. This segmentation system attributes, postal code, specific segment based social, economic, attitudinal attributes attached postal code. The evaluation team used two approaches: one used third-party segmentation system is, consisted creating in-house segmentation system using aggregated statistics, combining behavioural administrative data segmentation data. The algorithm used development segmentation system small level instability, one every five records belong different segment algorithm replicated. This instability expected social sciences, impact overall analysis findings. Appendix B: List reports thematic evaluation This multi-year thematic approach business compliance respond issues research questions listed generating series reports whose content varies depth breadth. The evaluation team periodically review series provide updates Management Audit Evaluation Committee ensure continued relevance feasibility. This approach enables evaluation team remain agile responding senior management’s needs, could shaped findings reports. The CRA’s exploration theme began 2018 framework Evaluation CRA Information Resources Small Businesses. That evaluation examines extent variety CRA information resources facilitate small business compliance well effective CRA’s administration area. Wave 1 reports Audit Yield – This report assessed effectively CRA successfully recovers amounts business-related income tax (and update GST/HST Footnote 24 ) audits within given timeframe. It examined integrated, population-level performance measures take account results activities across multiple branches functions. It explored recent, multi-year tracking CRA business audit efforts across T2, T1, GST/HST, payroll tax lines. Such horizontal indicator would assess CRA’s effectiveness resolving audit re-assessments (for example, estimating much extra tax dollars generated result audit work targets business). Current report: CRA Management Small Business Nudge – This report assessed aggregated comparability, stability, practicality segmenting managing small business data. It examines labels definitions surrounding “small business” CRA elsewhere. It summarizes similarities differences overall T1 T2 populations highlights data-related experiences encountered. Among things, analysis explores nature individual’s dependence business income order support data-driven decision-making around definitions “small business.” In March 2021, evaluation team advised Management Audit Evaluation Committee along Audit Committee Board Management report would also evaluate CRA’s nudging businesses. Appendix C: Glossary Glossary Term Definition Agency Data Warehouse (ADW) The ADW data repository stores corporate, sharable data 55 CRA business operational systems manner suitable use Business Intelligence (BI) analysis, research, reporting. Inferential study Inferential studies focus finding relationships making predictions generalizations larger dataset, based set collected data. Nudge A nudge intervention technique targets individuals’ economic decision-making process order facilitate behaviour change. The intervention typically adds, changes, re-arranges information individuals use make specific economic decisions (for example, saving, spending, reporting income, paying debts) effort increase desired behaviour decrease undesired behaviours. Nudge techniques characterized subtle encouraging nature. Sending educational letters taxpayers risk under-reporting income, inform income reported correct errors fact, example nudge. Persona CRA personae fictional characters representing key audience segments use CRA’s products services. Although individuals real, based data research actual users. The five CRA personae are: Persona 1: Tax Service Provider – Wayne Persona 2: Business Owner – Beatrice Persona 3: Typical Tax-filer – Lara Persona 4: Vulnerable – Fatima Persona 5: Needs help taxes – Nate Segmentation Segmentation analysis attempts obtain analyze individual’s attitudes, behaviours, financial situations, demographics, tendencies. This data used group like-minded similarly-situated individuals determine optimal way communicating them. Trend A trend pattern found data; used describe data showing upward downward movement part, of, time. Footnotes Footnote 1 A nudge intervention technique targets individuals' economic decision-making processes order facilitate behaviour change (CRA Nudge Guide). The CRA implementing nudges approximately 10 years. Return footnote 1 Footnote 2 The CRA use nudge techniques encourage behaviours variety ways beyond tax compliance (e.g. encouraging benefits uptake). This evaluation examines nudges specifically apply encourage tax compliance among small business population. Return footnote 2 Footnote 3 CRA’s Nudge Development Guide (accessible Government Canada network) Return footnote 3 Footnote 4 Behavioural Insights Better Tax Administration: A Brief Guide Return footnote 4 Footnote 5 Forum tax administration, Organisation Economic Co-operation Development, 2021; Behavioural Insights Better Tax Administration Return footnote 5 Footnote 6 Thaler, R Sunstein, C, 2008. Nudge: improving decisions health, wealth, happiness. New Haven: Yale University Press. Return footnote 6 Footnote 7 2018 Serving You Better consultations small medium businesses Return footnote 7 Footnote 8 Forum tax administration, Organisation Economic Co-operation Development, 2021; Behavioural Insights Better Tax Administration Return footnote 8 Footnote 9 This period data selected extracted 2020 given relative stability taxpayers’ accounts (for example, appeals rights exhausted late filers captured) Return footnote 9 Footnote 10 Using Nudge Tax Compliance: Leveraging Behavioral Insights Boost Tax Revenues. Deloitte Consulting LLP . Return footnote 10 Footnote 11 For example, small businesses generate 11% 58% net income businesses. Return footnote 11 Footnote 12 Small & Medium Enterprises Directorate, Strategic Business Plan, The right intervention risk, Fiscal Year 2015 2018. According report, “Implementing ‘the right intervention risk’ means seek find least intrusive economical way promote compliance. A range interventions deployed reach taxpayers possible within SME population. Soft interventions nudge approaches used instead after-the-fact audit interventions less intrusive methods effective ensuring compliance. While still important part mandate, audits penalties reserved serious cases non-compliance.” Return footnote 12 Footnote 13 CRA personas (accessible Government Canada network) Return footnote 13 Footnote 14 Ratio average taxpayer debt per segment 90 days based average taxes owing per segment initial assessment four-year period. Return footnote 14 Footnote 15 Average liquid assets per segment. Return footnote 15 Footnote 16 Overall ranking response rates nudges studied. Return footnote 16 Footnote 17 Combined average T1/T2 filing non-compliance four-year period. Return footnote 17 Footnote 18 Ranked aggregated averages per segment paying full time four-year period. Return footnote 18 Footnote 19 Conditions refer 11 experimental groups used previous CRA nudge campaigns. Return footnote 19 Footnote 20 Putting people first Canada Revenue Agency Return footnote 20 Footnote 21 Update: Digital Business Strategy 2020-2022 (accessible Government Canada network) Return footnote 21 Footnote 22 The survey directed CRA employees obtain, extract, prepare data (e.g. power BI users). Return footnote 22 Footnote 23 The Agency Data Warehouse holds taxpayer data 50 CRA databases. Return footnote 23 Footnote 24 Evaluation Study – Horizontal Compliance Management: GST/HST Audit Programs , 2018 Return footnote 24 Report problem mistake page Please select apply: A link, button video working It spelling mistake Information missing Information outdated wrong Login error trying access account I can't find I'm looking Other issue list Submit Thank help! You receive reply. For enquiries, contact us . Date modified: 2022-09-16 Evaluation – Canada Revenue Agency (CRA) Management Small Business Nudge Final Report Audit, Evaluation, Risk Branch June 2022 On page Executive summary 1. Introduction 2. Background 3. Evaluation methodologies 4. Findings, recommendations, management response 4.1 There standard definition “small business” CRA, none takes taxpayer-centric view. The evaluation team developed concept “closely-held” business address gap. 4.2 A taxpayer-centric segmentation approach could enhance CRA nudge impacts small businesses. 4.3 Many concerns regarding CRA nudge experimentations traced culture practice vertical rather horizontal integration. 5. Conclusion 6. Acknowledgement 7. Appendices Appendix A: Evaluation issues methodology Appendix B: List reports thematic evaluation Appendix C: Glossary Executive summary This evaluation second series evaluations small business administration Canada Revenue Agency (CRA). The purpose engagement provide Commissioner, CRA management, Board Management assessment CRA’s nudge Footnote 1 efforts applied Footnote 2 encouraging tax compliance among small business population. This report also examines CRA’s multiple definitions “small business” CRA’s data user experiences terms using CRA data conduct nudge activities. Nudge experimentation relies understanding small business taxpayer’s behaviours, attitudes, operating context. As result, nudge success depends horizontal governance related factors areas research data. When properly targeted designed, nudge intervention innovative cost-effective way facilitate voluntary compliance desired outcome Footnote 3 . Nudges, letter telephone reminders, intended encourage desired behaviours, helping taxpayers comply tax obligations, minimizing burden them. Traditional compliance strategies, audits, labour-intensive limited reach, nudges tend cost-effective wider reach. According Organisation Economic Co-operation Development’s Forum Tax Administration (2021), data-driven understanding human behaviour improve taxpayer customer services optimize enforcement strategies, including nudges. In context nudges, could circumstances segmenting large, diverse populations worthwhile. The process segmenting identifies distinctive sub-groups tend share certain demographics, behaviours, social values, attributes within population Footnote 4 . Findings The evaluation found that: standard definition “small business” CRA, none takes taxpayer-centric view; evaluation team developed concept “closely-held” business address gap taxpayer-centric segmentation approach (for example, using blend behavioural, attitudinal, context data reach meaningful understanding taxpayer group) enhance CRA nudge impacts small businesses many concerns regarding CRA small business nudge research traced culture practice vertical rather horizontal integration Summary recommendations The Service, Innovation Integration Branch develop Behavioral Economics research standards Agency outlining required steps establishing rigorous behaviour-centric segmentation, specific appropriate target groups (treatment groups) desired outcomes. The Service, Innovation Integration Branch, support program branches, improve collaboration sharing small business nudge related research projects across Agency. The Service, Innovation Integration Branch, support program branches, improve small business nudge monitoring reporting. Management response The Service, Innovation Integration Branch (SIIB) agrees three recommendations report developed related action plans. The Audit, Evaluation, Risk Branch (AERB) determined appear reasonable address recommendations. After allowing adequate time key action plan items completed, AERB conduct follow-up assurance engagement determine whether gaps continue exist opportunities explored. Regarding first recommendation, SIIB recognizes Behavioural Economics (BE) increasingly used develop nudge techniques effort increase voluntary compliance, service provision internal operations. In order design effective nudge interventions, suitable nudge intervention given project capitalize cause behavioural issue specific characteristics target population. Both rest availability data reliability. SIIB, consultation CRA stakeholders will: Establish “BE Research Standard” codifies controls required course BE research (Q4 2022-2023). Assess viability applying third party attitudinal survey data CRA micro data (Q3 2022-2023). Establish maintain list experts consulted BE Research (Q2 2022-2023). As second recommendation, SIIB recognizes need collaboration sharing nudge research across Agency. SIIB houses Centre Excellence Behavioural Economics Research (CEBER), promotes methodological rigour Agency nudge activities. SIIB improve functionality Agency Research Inventory facilitates sharing identification BE research (Q4 2022-2023). SIIB, planned relaunch Research Network, act hub analysts across Agency share work (Q3 2022-2023). Finally, response third recommendation, noted behavioural economics research CRA distributed across different program areas. To provide enterprise-level view nudge projects. SIIB establish guidelines data analysis nudge behavioural economics activities, including “BE Research Standard” codifies controls required course BE research (Q2 2023-2024). Develop mechanism annual reporting nudges, including small businesses (Q4 2023-2024). 1. Introduction A thematic evaluation “small business administration” first included Board Management approved Risk-Based Audit Evaluation Plan 2018 2021 overarching evaluation framework approved Management Audit Evaluation Committee May 30, 2019 . This thematic evaluation divided series reports. The first report, “Audit Yield,” presented Management Audit Evaluation Committee November 2019. This report second series. This evaluation started exploring following areas: definitions “small business” Canada Revenue Agency (CRA) T1 T2 population compliance trends data-related experiences encountered One commitments thematic evaluation approach provide Management Audit Evaluation Committee Audit Committee Board Management (Board) periodic progress reports. The interim report presented Management Audit Evaluation Committee March 2021 Audit Committee Board April 2021, respectively. During meetings, original wave two commitment evolved terms refining examination T1 T2 trends focusing CRA nudge compliance efforts aimed small business community. Nudges relate small business compliance became focus evaluation several reasons: using nudge techniques influence desired behaviours outcomes taxpayer low-cost method potentially achieving greater compliance results CRA minimizing contact burden taxpayer using behavioural insights nudges widely accepted practice improving tax administrations evidenced recent guide Footnote 5 published Organization Economic Co-operation Development opportunities exist advance segmentation nudging integrating third-party data (such behavioural data) develop meaningful understanding taxpayer (in words, create taxpayer-centric perspective) extensive review CRA literature consultations key stakeholders revealed horizontal approach applying nudge techniques applied small business across CRA, thereby limiting measured progress field As result, evaluation team: identified new sub-set small businesses (in words, 5.7M “closely-held” businesses – explained Section 4) developed taxpayer-centric segmentation system using third-party data (such attitudinal data) blended CRA data, tested system past small business nudge compliance campaigns determine value 2. Background The purpose engagement provide Commissioner, CRA management, Board Management assessment CRA nudge efforts lens taxpayer-centric approach segmenting small business population. This report also examines CRA’s multiple definitions “small business,” CRA’s data user experiences. Thaler Sunstein (2008) described “nudge” changing someone’s behaviour predictable ways without remove options changing economic incentives Footnote 6 . The nudge literature suggests known nudge recipient, easier could tailor messages appeal them, thereby improving chances nudge succeed. The CRA’s activities serve wide audiences within small business population. Based information needs, vast majority businesses either T1 self-employed T2 owner-operated filers. As result, strategic level, CRA tended communicate small businesses single segment. “Serving Better,” small business consultation reporting bi-annual reporting cycle, consistent approach Footnote 7 . From compliance perspective, CRA’s nudge efforts tended either applied industrial sector, entire population non-compliance, T2 non-filers, specific aspect reporting. Some nudges broken tax line. Nudge techniques used many tax administrations evidence suggest work. The Organisation Economic Co-operation Development (2021) report behavioural insights Footnote 8 provides overview use impact nudges numerous tax administrations. For example, one tax administration able reduce number taxpayers owing taxes 33%, another tax administration increased filing among prior non-filers much 15%, implementation targeted nudge letter campaigns. 3. Evaluation methodologies The evaluation team used following methodologies: data analysis four years (2014-2017) Footnote 9 of: filing payment compliance sources household business income purchase temporary, three-month trial subscription third-party data provider, provided access segmentation system social values, wealth profiles, demographics Canadians postal code level nudge results 2015, 2016, 2017, 2020 pilot projects administered CRA document reviews, including 400 reports Agency Research Inventory Business Intelligence Reference System, benchmarking best practices Organisation Economic Co-operation Development countries internal interviews focus groups CRA employees external interviews Government Canada employees survey CRA employees obtain, extract, prepare data, also referred “data users” Limitations research When managing data, taxpayer privacy paramount. Consistent privacy laws, third-party data (such social values behavioural data) purchased research modelled postal code level. While modelled postal-code-level data increases chances getting right message right person Footnote 10 , impossible link modelled data individual within postal code. Further, although improbable postal-code-level generalizations apply everyone residing postal code, analysis provides valuable contact information previous internal research using factors region, sex, industry code not. 4. Findings, recommendations, management response The recommendations presented report address issues high significance mandatory requirements. The Service, Innovation Integration Branch agree recommendations report developed related action plans. The Audit, Evaluation, Risk Branch determined appear reasonable address recommendations. 4.1 There standard definition “small business” CRA, none takes taxpayer-centric view. The evaluation team developed concept “closely-held” business address gap. There standard definition “small business” CRA. Most 17 definitions tend based revenue number employees, vary widely Footnote 11 . None definitions focus either individual T2 owner-operated corporation T1 self-employed sole proprietor. The evaluation team developed concept “closely-held business” segment address gap. It focuses individuals behind smaller businesses includes T1 self-employed T2 owner-operated corporations either single (or spousal) majority shareholder controlling interest (greater 90% corporation’s shares). This distinction important T2 corporations, ownership spread among multiple minority shareholders, requiring use criteria (such revenue number employees) distinguish small-, medium-, large-sized businesses. Overall, 2017, approximately 5.7 million closely-held businesses Canada, includes 4.5 million T1 self-employed 1.2 million T2 owner-operated corporations. Achieving taxpayer-centric view possible closely-held business definition focus individual operates business. The idea behind taxpayer-centric view try better understand attitudes, behaviours, situations, tendencies taxpayers order build relationships improve service compliance, addressing unique needs. Developing taxpayer-centric view small businesses could ideal of: multiple tax obligations might have, including T1, T2, GST/HST, payroll large numbers (they represent approximately 85% businesses Canada), coupled relatively low taxes payable These population characteristics also justify use nudge techniques. The Small Medium Enterprises Directorate Compliance Programs Branch developed report titled “The right intervention risk.” Footnote 12 This report states targeted approach CRA interventions preferred, audits enforcement action aimed serious non-compliance, less serious compliance risks treated using “softer,” less costly techniques initiatives, enhanced information resources, liaison officer programs, nudge campaigns. 4.1.1 Although CRA developed two small-business owner personae Footnote 13 , could used basis segmentation, currently limited use. Personae fictional representations segments, groups, individuals based attributes could reflect characteristics, values, behavioural tendencies. Their purpose increase organization’s understanding different groups serves. Their value lies clearly reveal drives different types individuals. Applying taxpayer-centric view small businesses lends creation unique personae. The evaluation team’s quantitative analysis revealed opportunity refine CRA’s business-related personae accurately reflect small business population. For example, CRA’s current “Nate” persona resembles 0 0.2% small businesses, “Beatrice” persona resembles 0 1.0% It noted personae intended web content developers others within Public Affairs Branch help increase sensitivity unique small business needs. As result, evidence these, personae, intended used basis nudge messaging. Further, given limited breadth, personae could used assess efficacy CRA nudge efforts. 4.2 A taxpayer-centric segmentation approach could enhance CRA nudge impacts small businesses. Mass marketing approaches communications typically send one message entire population. By contrast, idea behind segmentation identify distinctive sub-groups based respective tendencies within population (such closely-held businesses). This segmentation would based combination behavioural, demographic, social values, tendencies. Identifying segments way provides basis achieving specific goals, increasing possibility getting right message right person, key consideration small business nudge efforts. This section provides overview of: taxpayer-centric segmentation system developed evaluation team closely-held business population insights optimize results four CRA small business nudge initiatives (2015, 2016, 2017, 2020) 4.2.1 Overview taxpayer-centric segmentation system developed evaluation team The evaluation team found optimal number closely-held business segments six, result aligned previous CRA public opinion research. Table 1 includes following information segment: segment label percentage closely-held business population represents social value tendencies ranking filing payment compliance behaviours percentage taxes unpaid due ability pay, indication financial situation nudge response rank Table 1: Summary closely-held business taxpayer-centric segmentation system Segment label (% overall population) They tend value: Compliance rank % unpaid taxes (%) Footnote 14 Ability pay rank Footnote 15 Nudge response rank Footnote 16 Filing rank Footnote 17 Payment rank Footnote 18 Altruistic compliers (16%) Civil obedience, gov’t action, community 1 2 42 5 4 Deferent compliers (4%) Personal duty, civil disobedience, gov’t action, physical force 2 1 41 1 1 Pseudo compliers (41%) Respecting authority, private sector gov’t 3 4 44 3 5 Situational non-compliers (8%) Risk taking, traditional values, private sector gov’t, inequality inevitable 4 6 52 2 6 Potential non-compliers (25%) Civil disobedience, individualism, work ethic, inequality inevitable 5 3 58 6 2 Rebels (5%) Eliminating inequality, civil disobedience, individualism 6 5 54 4 3 As Table 1, above, illustrates, similarities differences segments emerge comparing information row. For example, altruistic compliers deferent compliers consistently filing payment compliant, two segments tend differ financial situations, social values, response CRA nudges. Pseudo compliers Situational non-compliers two segments tend value private sector government dealing societal issues. They also likely good financial health less likely respond CRA nudges. However, remaining social values diverge, situational non-compliers likely payment non-compliant carry larger portion tax debt. Understanding tendencies situations segment assist CRA determine appropriate compliance actions segment closely-held business population. The next section describes proposed segmentation system applied within CRA. 4.2.2 Applying segmentation systems The CRA stated objective using right intervention risk. Within context nudge, means determining segments population likely respond compliance intervention, nudge, use insights improve non-compliance. This also means understanding segments likely respond nudge techniques using different compliance approaches segments. Table 1 highlights different segments population different response rates CRA nudge experiments. Deferent compliers responsive situational non-compliers least likely respond. The differences response rates segments highlights need enhanced monitoring. The evaluation team created indicator monitor optimize use nudge within specific segments closely-held business population. The indicator calculates percentage letters/contacts received taxpayers compared percentage responses subsequently received CRA. To optimize impact, CRA would nudge segments responsive limit letters sent least responsive. The evaluation team tested taxpayer-centric segmentation system using data collected four CRA nudge experiments. A summary test results found Table 2. Table 2: Frequency nudge optimization taxpayer-centric segment Impact Nudge conditions Footnote 19 applied segment Altruistic compliers Deferent compliers Pseudo compliers Situational non-compliers Potential non-compliers Rebels Overall averages Near-optimal 9% 64% 100% 64% 45% 82% 61% Sub-optimal 91% 36% 0% 36% 55% 18% 39% Overall, test results positive suggest CRA optimized return total 61% segments/nudge conditions included analysis. Based response rates, “pseudo-complier” “rebel” segments tended optimally targeted combined, two segments represent approximately half closely-held business population. The tests also revealed opportunities improvement targeting approach certain nudge experiments. In 39% conditions CRA nudge achieved sub-optimal impact either send enough nudges highly responsive segments sent many nudges largely unresponsive segments. For example, CRA could attempted reach taxpayers “potential non-complier” segment but, contrast, CRA sent many letters altruistic compliers. The evaluation team also tested third-party segmentation system using data collected four CRA nudge experiments. Overall, third-party segmentation system produced inconsistent results across various nudge experiments. A segments showed consistently average response rates produce detectable differences. This led evaluation team conclude taxpayer-centric segmentation system greater potential optimize future small business nudge performance. 4.2.3 Key takeaways segmentation system testing The observations emerging evaluation considered tentative based four previous nudge studies. Despite this, taxpayer-centric segmentation system raises questions warrant exploration. For example, altruistic compliers expected responsive nudge based value systems. However, filing payment compliance rates, low proportion late taxes owed, suggest already among compliant segment closely-held business population despite comparatively weak financial situations. It possible nudges less effective segment confident already compliant, weaker financial situations impedes ability pay more, both. Pseudo-compliers situational non-compliers also among least responsive segments nudge. These segments share skeptical view towards role government among payment non-compliant despite wealthiest. The differences segments suggest CRA could target, optimize, monitor nudge efforts. Given potential using applying behavioral data nudging, alternative strategies addressing segments explored. Implications CRA nudge experimentation structures, mechanisms, processes discussed section 4.3.1. Recommendation 1 SIIB develop BE research standards Agency outlining required steps establishing rigorous behaviour-centric segmentation, specific appropriate target groups (treatment groups) desired outcomes. Management response The Service, Innovation Integration Branch agrees recommendation. Behavioural Economics increasingly used develop nudge techniques effort increase voluntary compliance, service provision internal operations. In order design effective nudge interventions, suitable nudge intervention given project capitalize cause behavioural issue specific characteristics target population. Both rest availability data reliability. SIIB, consultation CRA stakeholders will: Establish “BE Research Standard” codifies controls required course BE research (Q4 2022-2023). Assess viability applying third party attitudinal survey data CRA micro data (Q3 2022-2023). Establish maintain list experts consulted BE Research (Q2 2022-2023). 4.3 Many concerns regarding CRA nudge experimentations traced culture practice vertical rather horizontal integration. The CRA’s functional model reinforces vertical integration, different branches specialize processes, tax lines, compliance activities. Within structure, quantitative behavioural research teams mandated serve nudge experimentation needs branches, rather embrace Chief Service Officer’s mandate employ “client-centric lens development service strategies.” Footnote 20 CRA nudge efforts evolved within operating framework, yet different because, unlike forms research, impact taxpayer directly. The CRA resources develop taxpayer-centric segments. It highly skilled nudge research communities within several branches, public opinion research function, one single largest data repositories Canadians’ behaviour (for example, filing payment behaviours). Despite resources, CRA able leverage resources create taxpayer-centric segmentation system nudge purposes. As almost surveys collect personal identifiable taxpayer information, feasible join information behavioural attitudinal data collected CRA individual level. Privacy ethical practices also support joining personal identifiable taxpayer information attitudes opinions individuals. This disconnect two types information impacts use practice CRA nudge experiments developed carried out. The following section reviews structures, mechanisms, processes support current nudge efforts, highlights impacts associated findings. Overall, appears numerous ways CRA could increase cross-branch, horizontal, collaboration, could positively impact taxpayers, researchers, management. 4.3.1 The challenges nudge researchers face CRA data complex, leading spend significant Elements Agency Digital Business Strategy Footnote 21 imply data quality priority, including references “reducing burden Canadians leveraging data emerging technologies,” solutions perform real-time analysis, “agile risk informed decision-making.” The evaluation team conducted survey 45 CRA data users Footnote 22 , examined experiences related locating, understanding, obtaining, verifying data quality current recently completed projects. The common element underlying many concerns (such lack documentation identifying owner) need confidence data prior analyzing it. Overall, spent 31% time ensuring data high quality, another 53% time spent locating understanding data. Overall, majority CRA data users felt CRA potential improve data experience facilitating “understanding data” “locating data.” In addition, nudge researchers revealed sometimes wait months obtain data, led delaying redirecting projects. Specifically, obtaining address data challenge nudge researchers. Currently, CRA requires mailing address T1 filers, home address. The evaluation team’s data analysis found 19.5% business owners nudged early 2020 (for filing corporate return) report valid residential address. Postal boxes taxpayer actually resides, limiting value postal-code-level insights. The evaluation team also identified concerns two-way communications data user community. The evaluation team ran test identified transformations original source data made records appear differently Agency Data Warehouse Footnote 23 , problem Information Technology Branch committed address notified. At time writing, users informed data error systematic way, user support documentation updated. Additionally, apart evaluation team’s survey, one survey conducted CRA data users past five years. We found previous survey provide full picture data user experiences, including concerns regarding levels trust quality data. The Service, Innovation Integration Branch Information Technology Branch recently launched numerous data quality initiatives data quality framework, data stewardship program, Agency Metadata Repository. While numerous references improving data quality Service, Innovation Integration Branch Information Technology Branch senior management annual performance accords, evaluation team could find anyone explicitly accountable monitoring continuously improving data user experience. 4.3.2 There lack minimum, common standards regarding nudge details. The CRA developed CRA Nudge Development Guide support nudge researchers, including conducting experiments small business population. While guidance document comprehensive, horizontal mechanism place monitors whether followed. As result, CRA appears rely researcher judgement branch level rather ensuring minimum standards across branches regarding methodological details. Subtle differences approaches could make challenge senior management monitor success strategically deploy CRA resources towards nudge campaigns. For example, contrary advice CRA Nudge Development Guide, two nudge studies used evaluation’s nudge analysis create control group. A control group provides baseline information regarding many people would undertake desired behaviour without intervention. In two instances, post hoc control groups developed based taxpayer-requested adjustments comparable time period. Further, different combinations success criteria used across nudge studies, number measures varied one eight. Some criteria found statistically significant, others not. This made challenging evaluation team determine whether one nudge experiment successful another. Part nudge planning process review previous research related targeted population, small businesses, order gain understanding population, drivers compliance behaviour, risk factors associated different pockets population. We noted concerns regarding documentation usage small business research could potentially feed nudge research decisions. For example, one analysis, top 1% closely-held taxpayer population represented 37% debt initial assessment 47% total debt 90 days assessment (in words, large proportion population). Such skewness common, yet many reports evaluation team reviewed made mention outliers extreme values reports. 4.3.3 Impacts evaluation key stakeholder groups The findings identified impact different CRA stakeholders different ways. Nudge researchers, field staff, management, authors CRA Nudge Development Guide considered below. Nudge researchers field staff Nudge researchers indicated research reports available CRA’s central repository research. Reasons cited include: lack storage space reports complex external readers would understand reports actually measurement performance taxpayer compliance tend require approval field clients program areas, might prefer results widely shared There evidence branch’s nudge research cited (much less attempted replicate) research another branch, evidence cross-branch (inter-disciplinary) collaboration published reports. Additionally, although nudge researchers review work within branch functional clients, evidence cross-branch peer review either prior launching nudge (to ensure approach meets minimum standards) launch. In addition, central repository post, share, access nudge results data know taxpayers contacted responded nudge. Nudge responses evaluated across branches recognize act patterns could initiate development taxpayer-centric segmentation system. Nudge field staff high demand research, disconnect published research usability field. When employees asked information used, different perspectives emerged. On one hand, CRA nudge managers receive individual taxpayer data showing (possible) non-compliance, including personal contact information. On hand, CRA nudge managers also access CRA research combined compliance behavioural attitudinal data, know individuals contact them. The two types research exist parallel, ability integrate them. Some field staff revealed building data analysis groups meet unique needs. Overall, unavailability self-serve options accessing nudge data detailed methodologies made re-using learning previous nudges impractical time consuming. A horizontally integrated research community support nudge researchers by: facilitating replication research sharing data processes promoting cross-branch collaboration takes taxpayer-centric view providing independent lens challenge research findings prior conducting field work publication Management The current organizational design might optimizing relationship accountabilities expertise, relevant unlike research, nudge efforts directly impact targeted taxpayers. According interviewees, tendency nudge activities prioritized, planned, administered Headquarters field program staff. However, instead involved initial planning stage, model tends limit CRA research communications expertise mostly advisory roles nudge management process. On research side, practice represents barrier developing minimum methodological nudge standards, long standards adhered to, CRA could challenged sharing, aggregating, monitoring overall nudge results. This, turn could impact CRA’s ability optimally implement non-audit treatments/nudge activities. On communications side, CRA cannot easily know taxpayer received message, whether message appropriate optimal, whether taxpayer targeted multiple times. Although research team measures documents nudge results, evidence CRA-wide nudge monitoring strategy. With reliance researcher judgement, central repository store mine previous nudge results, wide variety success criteria employed, challenge, CRA level, know nudges less effective why, impacting CRA’s ability deploy nudge resources strategic fashion. Updates CRA Nudge Development Guide The evaluation team’s analysis suggests several claims CRA Nudge Development Guide could re-visited based findings stated throughout report. Recommendation 2 The Service, Innovation Integration Branch, support program branches, improve collaboration sharing small business nudge related research projects across Agency. Management response The Service, Innovation Integration Branch agrees recommendation. SIIB recognizes need collaboration sharing nudge research across Agency. SIIB houses Centre Excellence Behavioural Economics Research (CEBER), promotes methodological rigour Agency nudge activities. SIIB improve functionality Agency Research Inventory facilitates sharing identification BE research (Q4 2022-2023). SIIB, planned relaunch Research Network, act hub analysts across Agency share work (Q3 2022-2023). Recommendation 3 The Service, Innovation Integration Branch, support program branches, improve small business nudge monitoring reporting. Management response The Service, Innovation Integration Branch agrees recommendation. Behavioural economics research CRA distributed across different program areas. To provide enterprise-level view nudge projects, SIIB develop mechanism annual reporting nudges, including small businesses. SIIB establish guidelines data analysis nudge behavioural economics activities, including “BE Research Standard” codifies controls required course BE research (Q2 2023-2024). SIIB, consultation CRA stakeholders, develop mechanism annual reporting nudges including small businesses (Q4 2023-2024). 5. Conclusion Tax administrations around world started using behavioural insights improve relationships taxpayers. Nudging potential positive impact taxpayer services compliance, consistent CRA strategies putting people first customizing service offering messaging different segments serves. While CRA undertaken many initiatives nudging taxpayers past, advancements areas behavioural insights, CRA’s investments data analytics tools skills, CRA’s openness iterative lean approach continuous improvement provide good conditions making advancements way CRA facilitates voluntary compliance. The recommendations action plans developed potential help CRA reach objectives serving diversity small business client base. This said, AERB conduct follow-up assurance engagement allowing adequate time key action plan items completed determine whether gaps continue exist opportunities explored. 6. Acknowledgement In closing, evaluation team would like acknowledge thank branches time dedicated information provided course engagement: Assessment, Benefit, Service Branch; Collections Verification Branch; Compliance Programs Branch; Information Technology Branch; Public Affairs Branch; Service, Innovation, Integration Branch. 7. Appendices Appendix A: Evaluation issues methodology Issue 1: What outcomes achieved small business ownership population? What businesses’ perceptions experiences CRA? What compliance trends population multiple tax obligations? Issue 2: In ways could full taxpayer view impact CRA’s administration small business population? In ways could full taxpayer view impact current monitoring reporting approaches population? Can current operating assumptions regarding risk scoring, file selection, resource allocation, governance, coordination, technology, legal frameworks validated using full taxpayer view? These two issues studied series reports. The first report, “Audit Yield,” presented November 2019. The current report second series. This report examines labels definitions surrounding “business” CRA elsewhere. It summarizes similarities differences overall T1 T2 populations highlights data-related experiences encountered. Among things, analysis explores nature individual’s dependence business income order support data-driven decision-making around definitions “small business.” Methodology The methodologies examination included following: data analysis four years (2014-2017) of: filing payment compliance sources household business income purchase temporary, three-month trial subscription, provided access segmentation system social values, wealth profiles, demographics Canadians nudge results 2015, 2016, 2017, 2020 pilot projects administered CRA document reviews, including 400 reports Agency Research Inventory Business Intelligence Reference System, benchmarking best practices Organisation Economic Co-operation Development countries internal interviews focus groups CRA employees external interviews Government Canada employees survey CRA employees obtain, extract, prepare data, also referred “data users” A third-party segmentation system purchased temporary licence order understand attitudinal, lifestyle, wealth profiles CRA’s nudged population. This segmentation system attributes, postal code, specific segment based social, economic, attitudinal attributes attached postal code. The evaluation team used two approaches: one used third-party segmentation system is, consisted creating in-house segmentation system using aggregated statistics, combining behavioural administrative data segmentation data. The algorithm used development segmentation system small level instability, one every five records belong different segment algorithm replicated. This instability expected social sciences, impact overall analysis findings. Appendix B: List reports thematic evaluation This multi-year thematic approach business compliance respond issues research questions listed generating series reports whose content varies depth breadth. The evaluation team periodically review series provide updates Management Audit Evaluation Committee ensure continued relevance feasibility. This approach enables evaluation team remain agile responding senior management’s needs, could shaped findings reports. The CRA’s exploration theme began 2018 framework Evaluation CRA Information Resources Small Businesses. That evaluation examines extent variety CRA information resources facilitate small business compliance well effective CRA’s administration area. Wave 1 reports Audit Yield – This report assessed effectively CRA successfully recovers amounts business-related income tax (and update GST/HST Footnote 24 ) audits within given timeframe. It examined integrated, population-level performance measures take account results activities across multiple branches functions. It explored recent, multi-year tracking CRA business audit efforts across T2, T1, GST/HST, payroll tax lines. Such horizontal indicator would assess CRA’s effectiveness resolving audit re-assessments (for example, estimating much extra tax dollars generated result audit work targets business). Current report: CRA Management Small Business Nudge – This report assessed aggregated comparability, stability, practicality segmenting managing small business data. It examines labels definitions surrounding “small business” CRA elsewhere. It summarizes similarities differences overall T1 T2 populations highlights data-related experiences encountered. Among things, analysis explores nature individual’s dependence business income order support data-driven decision-making around definitions “small business.” In March 2021, evaluation team advised Management Audit Evaluation Committee along Audit Committee Board Management report would also evaluate CRA’s nudging businesses. Appendix C: Glossary Glossary Term Definition Agency Data Warehouse (ADW) The ADW data repository stores corporate, sharable data 55 CRA business operational systems manner suitable use Business Intelligence (BI) analysis, research, reporting. Inferential study Inferential studies focus finding relationships making predictions generalizations larger dataset, based set collected data. Nudge A nudge intervention technique targets individuals’ economic decision-making process order facilitate behaviour change. The intervention typically adds, changes, re-arranges information individuals use make specific economic decisions (for example, saving, spending, reporting income, paying debts) effort increase desired behaviour decrease undesired behaviours. Nudge techniques characterized subtle encouraging nature. Sending educational letters taxpayers risk under-reporting income, inform income reported correct errors fact, example nudge. Persona CRA personae fictional characters representing key audience segments use CRA’s products services. Although individuals real, based data research actual users. The five CRA personae are: Persona 1: Tax Service Provider – Wayne Persona 2: Business Owner – Beatrice Persona 3: Typical Tax-filer – Lara Persona 4: Vulnerable – Fatima Persona 5: Needs help taxes – Nate Segmentation Segmentation analysis attempts obtain analyze individual’s attitudes, behaviours, financial situations, demographics, tendencies. This data used group like-minded similarly-situated individuals determine optimal way communicating them. Trend A trend pattern found data; used describe data showing upward downward movement part, of, time. Footnotes Footnote 1 A nudge intervention technique targets individuals' economic decision-making processes order facilitate behaviour change (CRA Nudge Guide). The CRA implementing nudges approximately 10 years. Return footnote 1 Footnote 2 The CRA use nudge techniques encourage behaviours variety ways beyond tax compliance (e.g. encouraging benefits uptake). This evaluation examines nudges specifically apply encourage tax compliance among small business population. Return footnote 2 Footnote 3 CRA’s Nudge Development Guide (accessible Government Canada network) Return footnote 3 Footnote 4 Behavioural Insights Better Tax Administration: A Brief Guide Return footnote 4 Footnote 5 Forum tax administration, Organisation Economic Co-operation Development, 2021; Behavioural Insights Better Tax Administration Return footnote 5 Footnote 6 Thaler, R Sunstein, C, 2008. Nudge: improving decisions health, wealth, happiness. New Haven: Yale University Press. Return footnote 6 Footnote 7 2018 Serving You Better consultations small medium businesses Return footnote 7 Footnote 8 Forum tax administration, Organisation Economic Co-operation Development, 2021; Behavioural Insights Better Tax Administration Return footnote 8 Footnote 9 This period data selected extracted 2020 given relative stability taxpayers’ accounts (for example, appeals rights exhausted late filers captured) Return footnote 9 Footnote 10 Using Nudge Tax Compliance: Leveraging Behavioral Insights Boost Tax Revenues. Deloitte Consulting LLP . Return footnote 10 Footnote 11 For example, small businesses generate 11% 58% net income businesses. Return footnote 11 Footnote 12 Small & Medium Enterprises Directorate, Strategic Business Plan, The right intervention risk, Fiscal Year 2015 2018. According report, “Implementing ‘the right intervention risk’ means seek find least intrusive economical way promote compliance. A range interventions deployed reach taxpayers possible within SME population. Soft interventions nudge approaches used instead after-the-fact audit interventions less intrusive methods effective ensuring compliance. While still important part mandate, audits penalties reserved serious cases non-compliance.” Return footnote 12 Footnote 13 CRA personas (accessible Government Canada network) Return footnote 13 Footnote 14 Ratio average taxpayer debt per segment 90 days based average taxes owing per segment initial assessment four-year period. Return footnote 14 Footnote 15 Average liquid assets per segment. Return footnote 15 Footnote 16 Overall ranking response rates nudges studied. Return footnote 16 Footnote 17 Combined average T1/T2 filing non-compliance four-year period. Return footnote 17 Footnote 18 Ranked aggregated averages per segment paying full time four-year period. Return footnote 18 Footnote 19 Conditions refer 11 experimental groups used previous CRA nudge campaigns. Return footnote 19 Footnote 20 Putting people first Canada Revenue Agency Return footnote 20 Footnote 21 Update: Digital Business Strategy 2020-2022 (accessible Government Canada network) Return footnote 21 Footnote 22 The survey directed CRA employees obtain, extract, prepare data (e.g. power BI users). Return footnote 22 Footnote 23 The Agency Data Warehouse holds taxpayer data 50 CRA databases. Return footnote 23 Footnote 24 Evaluation Study – Horizontal Compliance Management: GST/HST Audit Programs , 2018 Return footnote 24 Report problem mistake page Please select apply: A link, button video working It spelling mistake Information missing Information outdated wrong Login error trying access account I can't find I'm looking Other issue list Submit Thank help! You receive reply. For enquiries, contact us . Date modified: 2022-09-16\""
            ],
            "application/vnd.google.colaboratory.intrinsic+json": {
              "type": "string"
            }
          },
          "metadata": {},
          "execution_count": 100
        }
      ]
    },
    {
      "cell_type": "markdown",
      "source": [
        "# Part II: train embedding\n"
      ],
      "metadata": {
        "id": "kmHcivcK0iz7"
      }
    },
    {
      "cell_type": "markdown",
      "source": [
        "\n",
        "## Word2Vec from scratch\n",
        "Word2Vec from scratch by Jake Tae: https://jaketae.github.io/study/word2vec/"
      ],
      "metadata": {
        "id": "6hJvt5oJjoHw"
      }
    },
    {
      "cell_type": "code",
      "source": [
        "##find all non-overlapping words defined by the regex patterns\n",
        "import re\n",
        "\n",
        "def tokenize(text):\n",
        "    pattern = re.compile(r'[A-Za-z]+[\\w^\\']*|[\\w^\\']*[A-Za-z]+[\\w^\\']*')\n",
        "    return pattern.findall(text.lower())\n",
        "\n",
        "tokens = tokenize(data)\n",
        "tokens[1:10]"
      ],
      "metadata": {
        "colab": {
          "base_uri": "https://localhost:8080/"
        },
        "id": "yvAzDsFgk_cJ",
        "outputId": "b5e9e4e5-7fb2-4e52-b398-7b5194e2e55a"
      },
      "execution_count": null,
      "outputs": [
        {
          "output_type": "execute_result",
          "data": {
            "text/plain": [
              "['canada',\n",
              " 'revenue',\n",
              " 'agency',\n",
              " 'cra',\n",
              " 'management',\n",
              " 'small',\n",
              " 'business',\n",
              " 'nudge',\n",
              " 'final']"
            ]
          },
          "metadata": {},
          "execution_count": 101
        }
      ]
    },
    {
      "cell_type": "code",
      "source": [
        "#create indices for the tokens from above\n",
        "def mapping(tokens):\n",
        "    word_to_id = {}\n",
        "    id_to_word = {}\n",
        "\n",
        "    for i, token in enumerate(set(tokens)):\n",
        "        word_to_id[token] = i\n",
        "        id_to_word[i] = token\n",
        "\n",
        "    return word_to_id, id_to_word\n",
        "\n",
        "word_to_id, id_to_word = mapping(tokens)"
      ],
      "metadata": {
        "id": "FsWIvXcxmzyY"
      },
      "execution_count": null,
      "outputs": []
    },
    {
      "cell_type": "code",
      "source": [
        "def concat(*iterables):\n",
        "    for iterable in iterables:\n",
        "        yield from iterable\n",
        "\n",
        "def one_hot_encode(id, vocab_size):\n",
        "    res = [0] * vocab_size\n",
        "    res[id] = 1\n",
        "    return res\n",
        "\n",
        "#generate training data\n",
        "import numpy as np\n",
        "\n",
        "np.random.seed(42)\n",
        "\n",
        "\n",
        "def generate_training_data(tokens, word_to_id, window):\n",
        "    X = []\n",
        "    y = []\n",
        "    n_tokens = len(tokens)\n",
        "\n",
        "    for i in range(n_tokens):\n",
        "        idx = concat(\n",
        "            range(max(0, i - window), i),\n",
        "            range(i, min(n_tokens, i + window + 1))\n",
        "        )\n",
        "        for j in idx:\n",
        "            if i == j:\n",
        "                continue\n",
        "            X.append(one_hot_encode(word_to_id[tokens[i]], len(word_to_id)))\n",
        "            y.append(one_hot_encode(word_to_id[tokens[j]], len(word_to_id)))\n",
        "\n",
        "    return np.asarray(X), np.asarray(y)"
      ],
      "metadata": {
        "id": "qyrci9YtnS__"
      },
      "execution_count": null,
      "outputs": []
    },
    {
      "cell_type": "code",
      "source": [
        "X, y = generate_training_data(tokens, word_to_id, 2)"
      ],
      "metadata": {
        "id": "v0J9gEuqv-uL"
      },
      "execution_count": null,
      "outputs": []
    },
    {
      "cell_type": "code",
      "source": [
        "X"
      ],
      "metadata": {
        "colab": {
          "base_uri": "https://localhost:8080/"
        },
        "id": "_DuHwTt1wJ1i",
        "outputId": "529cf653-0735-4cdd-b2e0-fd423a8c3386"
      },
      "execution_count": null,
      "outputs": [
        {
          "output_type": "execute_result",
          "data": {
            "text/plain": [
              "array([[0, 0, 0, ..., 0, 0, 0],\n",
              "       [0, 0, 0, ..., 0, 0, 0],\n",
              "       [0, 0, 0, ..., 0, 0, 0],\n",
              "       ...,\n",
              "       [0, 0, 0, ..., 0, 0, 0],\n",
              "       [0, 0, 0, ..., 0, 0, 0],\n",
              "       [0, 0, 0, ..., 0, 0, 0]])"
            ]
          },
          "metadata": {},
          "execution_count": 105
        }
      ]
    },
    {
      "cell_type": "code",
      "source": [
        "y"
      ],
      "metadata": {
        "colab": {
          "base_uri": "https://localhost:8080/"
        },
        "id": "EU9Vz15AwL1T",
        "outputId": "bad41f0c-a350-4991-cc46-f0e03202f464"
      },
      "execution_count": null,
      "outputs": [
        {
          "output_type": "execute_result",
          "data": {
            "text/plain": [
              "array([[0, 0, 0, ..., 0, 0, 0],\n",
              "       [0, 0, 0, ..., 0, 0, 0],\n",
              "       [0, 0, 0, ..., 0, 0, 0],\n",
              "       ...,\n",
              "       [0, 0, 0, ..., 0, 0, 0],\n",
              "       [0, 0, 0, ..., 0, 0, 0],\n",
              "       [0, 0, 0, ..., 0, 0, 0]])"
            ]
          },
          "metadata": {},
          "execution_count": 106
        }
      ]
    },
    {
      "cell_type": "code",
      "source": [
        "def init_network(vocab_size, n_embedding):\n",
        "    model = {\n",
        "        \"w1\": np.random.randn(vocab_size, n_embedding),\n",
        "        \"w2\": np.random.randn(n_embedding, vocab_size)\n",
        "    }\n",
        "    return model\n",
        "\n",
        "model = init_network(len(word_to_id), 10)\n",
        "\n",
        "#forward prop\n",
        "def forward(model, X, return_cache=True):\n",
        "    cache = {}\n",
        "\n",
        "    cache[\"a1\"] = X @ model[\"w1\"]\n",
        "    cache[\"a2\"] = cache[\"a1\"] @ model[\"w2\"]\n",
        "    cache[\"z\"] = softmax(cache[\"a2\"])\n",
        "\n",
        "    if not return_cache:\n",
        "        return cache[\"z\"]\n",
        "    return cache\n",
        "\n",
        "#softmax activation\n",
        "def softmax(X):\n",
        "    res = []\n",
        "    for x in X:\n",
        "        exp = np.exp(x)\n",
        "        res.append(exp / exp.sum())\n",
        "    return res\n",
        "\n",
        "#corss entropy\n",
        "def cross_entropy(z, y):\n",
        "    return - np.sum(np.log(z) * y)\n",
        "\n",
        "#backprop\n",
        "def backward(model, X, y, alpha):\n",
        "    cache  = forward(model, X)\n",
        "    da2 = cache[\"z\"] - y\n",
        "    dw2 = cache[\"a1\"].T @ da2\n",
        "    da1 = da2 @ model[\"w2\"].T\n",
        "    dw1 = X.T @ da1\n",
        "    assert(dw2.shape == model[\"w2\"].shape)\n",
        "    assert(dw1.shape == model[\"w1\"].shape)\n",
        "    model[\"w1\"] -= alpha * dw1\n",
        "    model[\"w2\"] -= alpha * dw2\n",
        "    return cross_entropy(cache[\"z\"], y)\n"
      ],
      "metadata": {
        "id": "FZhc89w8zfPt"
      },
      "execution_count": null,
      "outputs": []
    },
    {
      "cell_type": "code",
      "source": [
        "import matplotlib.pyplot as plt\n",
        "%matplotlib inline\n",
        "%config InlineBackend.figure_format = 'svg'\n",
        "plt.style.use(\"seaborn\")\n",
        "\n",
        "n_iter = 50\n",
        "learning_rate = 0.05\n",
        "\n",
        "history = [backward(model, X, y, learning_rate) for _ in range(n_iter)]\n",
        "\n",
        "plt.plot(range(len(history)), history, color=\"skyblue\")\n",
        "plt.show()"
      ],
      "metadata": {
        "colab": {
          "base_uri": "https://localhost:8080/",
          "height": 574
        },
        "id": "pjmr_-r1z746",
        "outputId": "515abdd6-c24e-487a-80d8-853b213b806c"
      },
      "execution_count": null,
      "outputs": [
        {
          "output_type": "stream",
          "name": "stderr",
          "text": [
            "<ipython-input-108-f4f09dca4e00>:4: MatplotlibDeprecationWarning: The seaborn styles shipped by Matplotlib are deprecated since 3.6, as they no longer correspond to the styles shipped by seaborn. However, they will remain available as 'seaborn-v0_8-<style>'. Alternatively, directly use the seaborn API instead.\n",
            "  plt.style.use(\"seaborn\")\n",
            "<ipython-input-107-4dd3fdfc8106>:26: RuntimeWarning: overflow encountered in exp\n",
            "  exp = np.exp(x)\n",
            "<ipython-input-107-4dd3fdfc8106>:27: RuntimeWarning: invalid value encountered in true_divide\n",
            "  res.append(exp / exp.sum())\n",
            "<ipython-input-107-4dd3fdfc8106>:32: RuntimeWarning: divide by zero encountered in log\n",
            "  return - np.sum(np.log(z) * y)\n",
            "<ipython-input-107-4dd3fdfc8106>:32: RuntimeWarning: invalid value encountered in multiply\n",
            "  return - np.sum(np.log(z) * y)\n"
          ]
        },
        {
          "output_type": "error",
          "ename": "KeyboardInterrupt",
          "evalue": "ignored",
          "traceback": [
            "\u001b[0;31m---------------------------------------------------------------------------\u001b[0m",
            "\u001b[0;31mKeyboardInterrupt\u001b[0m                         Traceback (most recent call last)",
            "\u001b[0;32m<ipython-input-108-f4f09dca4e00>\u001b[0m in \u001b[0;36m<cell line: 9>\u001b[0;34m()\u001b[0m\n\u001b[1;32m      7\u001b[0m \u001b[0mlearning_rate\u001b[0m \u001b[0;34m=\u001b[0m \u001b[0;36m0.05\u001b[0m\u001b[0;34m\u001b[0m\u001b[0;34m\u001b[0m\u001b[0m\n\u001b[1;32m      8\u001b[0m \u001b[0;34m\u001b[0m\u001b[0m\n\u001b[0;32m----> 9\u001b[0;31m \u001b[0mhistory\u001b[0m \u001b[0;34m=\u001b[0m \u001b[0;34m[\u001b[0m\u001b[0mbackward\u001b[0m\u001b[0;34m(\u001b[0m\u001b[0mmodel\u001b[0m\u001b[0;34m,\u001b[0m \u001b[0mX\u001b[0m\u001b[0;34m,\u001b[0m \u001b[0my\u001b[0m\u001b[0;34m,\u001b[0m \u001b[0mlearning_rate\u001b[0m\u001b[0;34m)\u001b[0m \u001b[0;32mfor\u001b[0m \u001b[0m_\u001b[0m \u001b[0;32min\u001b[0m \u001b[0mrange\u001b[0m\u001b[0;34m(\u001b[0m\u001b[0mn_iter\u001b[0m\u001b[0;34m)\u001b[0m\u001b[0;34m]\u001b[0m\u001b[0;34m\u001b[0m\u001b[0;34m\u001b[0m\u001b[0m\n\u001b[0m\u001b[1;32m     10\u001b[0m \u001b[0;34m\u001b[0m\u001b[0m\n\u001b[1;32m     11\u001b[0m \u001b[0mplt\u001b[0m\u001b[0;34m.\u001b[0m\u001b[0mplot\u001b[0m\u001b[0;34m(\u001b[0m\u001b[0mrange\u001b[0m\u001b[0;34m(\u001b[0m\u001b[0mlen\u001b[0m\u001b[0;34m(\u001b[0m\u001b[0mhistory\u001b[0m\u001b[0;34m)\u001b[0m\u001b[0;34m)\u001b[0m\u001b[0;34m,\u001b[0m \u001b[0mhistory\u001b[0m\u001b[0;34m,\u001b[0m \u001b[0mcolor\u001b[0m\u001b[0;34m=\u001b[0m\u001b[0;34m\"skyblue\"\u001b[0m\u001b[0;34m)\u001b[0m\u001b[0;34m\u001b[0m\u001b[0;34m\u001b[0m\u001b[0m\n",
            "\u001b[0;32m<ipython-input-108-f4f09dca4e00>\u001b[0m in \u001b[0;36m<listcomp>\u001b[0;34m(.0)\u001b[0m\n\u001b[1;32m      7\u001b[0m \u001b[0mlearning_rate\u001b[0m \u001b[0;34m=\u001b[0m \u001b[0;36m0.05\u001b[0m\u001b[0;34m\u001b[0m\u001b[0;34m\u001b[0m\u001b[0m\n\u001b[1;32m      8\u001b[0m \u001b[0;34m\u001b[0m\u001b[0m\n\u001b[0;32m----> 9\u001b[0;31m \u001b[0mhistory\u001b[0m \u001b[0;34m=\u001b[0m \u001b[0;34m[\u001b[0m\u001b[0mbackward\u001b[0m\u001b[0;34m(\u001b[0m\u001b[0mmodel\u001b[0m\u001b[0;34m,\u001b[0m \u001b[0mX\u001b[0m\u001b[0;34m,\u001b[0m \u001b[0my\u001b[0m\u001b[0;34m,\u001b[0m \u001b[0mlearning_rate\u001b[0m\u001b[0;34m)\u001b[0m \u001b[0;32mfor\u001b[0m \u001b[0m_\u001b[0m \u001b[0;32min\u001b[0m \u001b[0mrange\u001b[0m\u001b[0;34m(\u001b[0m\u001b[0mn_iter\u001b[0m\u001b[0;34m)\u001b[0m\u001b[0;34m]\u001b[0m\u001b[0;34m\u001b[0m\u001b[0;34m\u001b[0m\u001b[0m\n\u001b[0m\u001b[1;32m     10\u001b[0m \u001b[0;34m\u001b[0m\u001b[0m\n\u001b[1;32m     11\u001b[0m \u001b[0mplt\u001b[0m\u001b[0;34m.\u001b[0m\u001b[0mplot\u001b[0m\u001b[0;34m(\u001b[0m\u001b[0mrange\u001b[0m\u001b[0;34m(\u001b[0m\u001b[0mlen\u001b[0m\u001b[0;34m(\u001b[0m\u001b[0mhistory\u001b[0m\u001b[0;34m)\u001b[0m\u001b[0;34m)\u001b[0m\u001b[0;34m,\u001b[0m \u001b[0mhistory\u001b[0m\u001b[0;34m,\u001b[0m \u001b[0mcolor\u001b[0m\u001b[0;34m=\u001b[0m\u001b[0;34m\"skyblue\"\u001b[0m\u001b[0;34m)\u001b[0m\u001b[0;34m\u001b[0m\u001b[0;34m\u001b[0m\u001b[0m\n",
            "\u001b[0;32m<ipython-input-107-4dd3fdfc8106>\u001b[0m in \u001b[0;36mbackward\u001b[0;34m(model, X, y, alpha)\u001b[0m\n\u001b[1;32m     39\u001b[0m     \u001b[0mda1\u001b[0m \u001b[0;34m=\u001b[0m \u001b[0mda2\u001b[0m \u001b[0;34m@\u001b[0m \u001b[0mmodel\u001b[0m\u001b[0;34m[\u001b[0m\u001b[0;34m\"w2\"\u001b[0m\u001b[0;34m]\u001b[0m\u001b[0;34m.\u001b[0m\u001b[0mT\u001b[0m\u001b[0;34m\u001b[0m\u001b[0;34m\u001b[0m\u001b[0m\n\u001b[1;32m     40\u001b[0m     \u001b[0mdw1\u001b[0m \u001b[0;34m=\u001b[0m \u001b[0mX\u001b[0m\u001b[0;34m.\u001b[0m\u001b[0mT\u001b[0m \u001b[0;34m@\u001b[0m \u001b[0mda1\u001b[0m\u001b[0;34m\u001b[0m\u001b[0;34m\u001b[0m\u001b[0m\n\u001b[0;32m---> 41\u001b[0;31m     \u001b[0;32massert\u001b[0m\u001b[0;34m(\u001b[0m\u001b[0mdw2\u001b[0m\u001b[0;34m.\u001b[0m\u001b[0mshape\u001b[0m \u001b[0;34m==\u001b[0m \u001b[0mmodel\u001b[0m\u001b[0;34m[\u001b[0m\u001b[0;34m\"w2\"\u001b[0m\u001b[0;34m]\u001b[0m\u001b[0;34m.\u001b[0m\u001b[0mshape\u001b[0m\u001b[0;34m)\u001b[0m\u001b[0;34m\u001b[0m\u001b[0;34m\u001b[0m\u001b[0m\n\u001b[0m\u001b[1;32m     42\u001b[0m     \u001b[0;32massert\u001b[0m\u001b[0;34m(\u001b[0m\u001b[0mdw1\u001b[0m\u001b[0;34m.\u001b[0m\u001b[0mshape\u001b[0m \u001b[0;34m==\u001b[0m \u001b[0mmodel\u001b[0m\u001b[0;34m[\u001b[0m\u001b[0;34m\"w1\"\u001b[0m\u001b[0;34m]\u001b[0m\u001b[0;34m.\u001b[0m\u001b[0mshape\u001b[0m\u001b[0;34m)\u001b[0m\u001b[0;34m\u001b[0m\u001b[0;34m\u001b[0m\u001b[0m\n\u001b[1;32m     43\u001b[0m     \u001b[0mmodel\u001b[0m\u001b[0;34m[\u001b[0m\u001b[0;34m\"w1\"\u001b[0m\u001b[0;34m]\u001b[0m \u001b[0;34m-=\u001b[0m \u001b[0malpha\u001b[0m \u001b[0;34m*\u001b[0m \u001b[0mdw1\u001b[0m\u001b[0;34m\u001b[0m\u001b[0;34m\u001b[0m\u001b[0m\n",
            "\u001b[0;31mKeyboardInterrupt\u001b[0m: "
          ]
        }
      ]
    },
    {
      "cell_type": "code",
      "source": [
        "#sanity check to see if the word embedding would return words like\n",
        "learning = one_hot_encode(word_to_id[\"learning\"], len(word_to_id))\n",
        "result = forward(model, [learning], return_cache=False)[0]\n",
        "\n",
        "for word in (id_to_word[id] for id in np.argsort(result)[::-1]):\n",
        "    print(word)"
      ],
      "metadata": {
        "id": "UxWSWYPx0Nt1"
      },
      "execution_count": null,
      "outputs": []
    },
    {
      "cell_type": "markdown",
      "source": [
        "\n",
        "## Word2Vec tensorflow\n",
        "Tensorflow tutorial (skip-gram): https://www.tensorflow.org/tutorials/text/word2vec#skip-gram_and_negative_sampling"
      ],
      "metadata": {
        "id": "0uDxmvzBLKar"
      }
    },
    {
      "cell_type": "code",
      "source": [
        "import io\n",
        "import re\n",
        "import string\n",
        "import tqdm\n",
        "\n",
        "import numpy as np\n",
        "\n",
        "import tensorflow as tf\n",
        "from tensorflow.keras import layers"
      ],
      "metadata": {
        "id": "dH3O4CIN2Q7I"
      },
      "execution_count": 250,
      "outputs": []
    },
    {
      "cell_type": "code",
      "source": [
        "# Load the TensorBoard notebook extension\n",
        "%load_ext tensorboard"
      ],
      "metadata": {
        "colab": {
          "base_uri": "https://localhost:8080/"
        },
        "id": "swv7Kp5_hM2X",
        "outputId": "9be53b9d-02e1-418a-fe75-f240d3fd2aa6"
      },
      "execution_count": 251,
      "outputs": [
        {
          "output_type": "stream",
          "name": "stdout",
          "text": [
            "The tensorboard extension is already loaded. To reload it, use:\n",
            "  %reload_ext tensorboard\n"
          ]
        }
      ]
    },
    {
      "cell_type": "code",
      "source": [
        "SEED = 42\n",
        "AUTOTUNE = tf.data.AUTOTUNE"
      ],
      "metadata": {
        "id": "R66MkiGkhNqj"
      },
      "execution_count": 252,
      "outputs": []
    },
    {
      "cell_type": "code",
      "source": [
        "sentence = \"The wide road shimmered in the hot sun\"\n",
        "tokens = list(sentence.lower().split())\n",
        "print(len(tokens))"
      ],
      "metadata": {
        "colab": {
          "base_uri": "https://localhost:8080/"
        },
        "id": "9cDK9Lnv2VVg",
        "outputId": "09b60753-adf9-42a3-8576-e0f1c2a542fb"
      },
      "execution_count": 253,
      "outputs": [
        {
          "output_type": "stream",
          "name": "stdout",
          "text": [
            "8\n"
          ]
        }
      ]
    },
    {
      "cell_type": "code",
      "source": [
        "#Create a vocabulary to save mappings from tokens to integer indices:\n",
        "vocab, index = {}, 1  # start indexing from 1\n",
        "vocab['<pad>'] = 0  # add a padding token\n",
        "for token in tokens:\n",
        "  if token not in vocab:\n",
        "    vocab[token] = index\n",
        "    index += 1\n",
        "vocab_size = len(vocab)\n",
        "print(vocab)"
      ],
      "metadata": {
        "colab": {
          "base_uri": "https://localhost:8080/"
        },
        "id": "RTyMaehf2Xwv",
        "outputId": "7689bc31-e90c-4d80-b989-89182c60b32f"
      },
      "execution_count": 254,
      "outputs": [
        {
          "output_type": "stream",
          "name": "stdout",
          "text": [
            "{'<pad>': 0, 'the': 1, 'wide': 2, 'road': 3, 'shimmered': 4, 'in': 5, 'hot': 6, 'sun': 7}\n"
          ]
        }
      ]
    },
    {
      "cell_type": "code",
      "source": [
        "inverse_vocab = {index: token for token, index in vocab.items()}\n",
        "print(inverse_vocab)\n",
        "\n",
        "example_sequence = [vocab[word] for word in tokens]\n",
        "print(example_sequence)"
      ],
      "metadata": {
        "colab": {
          "base_uri": "https://localhost:8080/"
        },
        "id": "C5NybH302qlo",
        "outputId": "fda0d570-f777-4a5a-8ae5-cd9173aa6ee4"
      },
      "execution_count": 255,
      "outputs": [
        {
          "output_type": "stream",
          "name": "stdout",
          "text": [
            "{0: '<pad>', 1: 'the', 2: 'wide', 3: 'road', 4: 'shimmered', 5: 'in', 6: 'hot', 7: 'sun'}\n",
            "[1, 2, 3, 4, 5, 1, 6, 7]\n"
          ]
        }
      ]
    },
    {
      "cell_type": "code",
      "source": [
        "#generate positive skip grams\n",
        "window_size = 2\n",
        "positive_skip_grams, _ = tf.keras.preprocessing.sequence.skipgrams(\n",
        "      example_sequence,\n",
        "      vocabulary_size=vocab_size,\n",
        "      window_size=window_size,\n",
        "      negative_samples=0)\n",
        "print(len(positive_skip_grams))\n",
        "\n",
        "for target, context in positive_skip_grams[:5]:\n",
        "  print(f\"({target}, {context}): ({inverse_vocab[target]}, {inverse_vocab[context]})\")"
      ],
      "metadata": {
        "colab": {
          "base_uri": "https://localhost:8080/"
        },
        "id": "RQyab3PO2i44",
        "outputId": "e92afd0e-6d3a-4316-9c83-24ff7730451a"
      },
      "execution_count": 256,
      "outputs": [
        {
          "output_type": "stream",
          "name": "stdout",
          "text": [
            "26\n",
            "(2, 1): (wide, the)\n",
            "(2, 4): (wide, shimmered)\n",
            "(4, 5): (shimmered, in)\n",
            "(6, 5): (hot, in)\n",
            "(4, 2): (shimmered, wide)\n"
          ]
        }
      ]
    },
    {
      "cell_type": "code",
      "source": [
        "# Get target and context words for one positive skip-gram.\n",
        "target_word, context_word = positive_skip_grams[0]\n",
        "\n",
        "# Set the number of negative samples per positive context.\n",
        "num_ns = 4\n",
        "\n",
        "context_class = tf.reshape(tf.constant(context_word, dtype=\"int64\"), (1, 1))\n",
        "negative_sampling_candidates, _, _ = tf.random.log_uniform_candidate_sampler(\n",
        "    true_classes=context_class,  # class that should be sampled as 'positive'\n",
        "    num_true=1,  # each positive skip-gram has 1 positive context class\n",
        "    num_sampled=num_ns,  # number of negative context words to sample\n",
        "    unique=True,  # all the negative samples should be unique\n",
        "    range_max=vocab_size,  # pick index of the samples from [0, vocab_size]\n",
        "    seed=SEED,  # seed for reproducibility\n",
        "    name=\"negative_sampling\"  # name of this operation\n",
        ")\n",
        "print(negative_sampling_candidates)\n",
        "print([inverse_vocab[index.numpy()] for index in negative_sampling_candidates])"
      ],
      "metadata": {
        "colab": {
          "base_uri": "https://localhost:8080/"
        },
        "id": "9_hXA4efijWg",
        "outputId": "644907f8-5776-47e0-ac60-3164decc7490"
      },
      "execution_count": 257,
      "outputs": [
        {
          "output_type": "stream",
          "name": "stdout",
          "text": [
            "tf.Tensor([0 7 4 6], shape=(4,), dtype=int64)\n",
            "['<pad>', 'sun', 'shimmered', 'hot']\n"
          ]
        }
      ]
    },
    {
      "cell_type": "code",
      "source": [
        "# Generates skip-gram pairs with negative sampling for a list of sequences\n",
        "# (int-encoded sentences) based on window size, number of negative samples\n",
        "# and vocabulary size.\n",
        "def generate_training_data(sequences, window_size, num_ns, vocab_size, seed):\n",
        "  # Elements of each training example are appended to these lists.\n",
        "  targets, contexts, labels = [], [], []\n",
        "\n",
        "  # Build the sampling table for `vocab_size` tokens.\n",
        "  sampling_table = tf.keras.preprocessing.sequence.make_sampling_table(vocab_size)\n",
        "\n",
        "  # Iterate over all sequences (sentences) in the dataset.\n",
        "  for sequence in tqdm.tqdm(sequences):\n",
        "\n",
        "    # Generate positive skip-gram pairs for a sequence (sentence).\n",
        "    positive_skip_grams, _ = tf.keras.preprocessing.sequence.skipgrams(\n",
        "          sequence,\n",
        "          vocabulary_size=vocab_size,\n",
        "          sampling_table=sampling_table,\n",
        "          window_size=window_size,\n",
        "          negative_samples=0)\n",
        "\n",
        "    # Iterate over each positive skip-gram pair to produce training examples\n",
        "    # with a positive context word and negative samples.\n",
        "    for target_word, context_word in positive_skip_grams:\n",
        "      context_class = tf.expand_dims(\n",
        "          tf.constant([context_word], dtype=\"int64\"), 1)\n",
        "      negative_sampling_candidates, _, _ = tf.random.log_uniform_candidate_sampler(\n",
        "          true_classes=context_class,\n",
        "          num_true=1,\n",
        "          num_sampled=num_ns,\n",
        "          unique=True,\n",
        "          range_max=vocab_size,\n",
        "          seed=seed,\n",
        "          name=\"negative_sampling\")\n",
        "\n",
        "      # Build context and label vectors (for one target word)\n",
        "      context = tf.concat([tf.squeeze(context_class,1), negative_sampling_candidates], 0)\n",
        "      label = tf.constant([1] + [0]*num_ns, dtype=\"int64\")\n",
        "\n",
        "      # Append each element from the training example to global lists.\n",
        "      targets.append(target_word)\n",
        "      contexts.append(context)\n",
        "      labels.append(label)\n",
        "\n",
        "  return targets, contexts, labels"
      ],
      "metadata": {
        "id": "9Q06XlVdLTtQ"
      },
      "execution_count": 258,
      "outputs": []
    },
    {
      "cell_type": "code",
      "source": [
        "#https://stackoverflow.com/questions/60166043/can-tf-keras-utils-get-file-be-used-to-load-local-zip-files\n",
        "import sys\n",
        "import os\n",
        "import keras\n",
        "# myFile = \"filteredtext.txt\" # just for example...\n",
        "# fullPath = os.path.abspath(\"./\" + myFile)  # or similar, depending on your scenario\n",
        "# path_to_file = keras.utils.get_file(myFile, 'file://'+fullPath)\n",
        "\n",
        "# path_to_file = tf.keras.utils.get_file('shakespeare.txt', 'https://storage.googleapis.com/download.tensorflow.org/data/shakespeare.txt')\n",
        "\n",
        "# with open(path_to_file) as f:\n",
        "#   lines = f.read().splitlines()\n",
        "# for line in lines[:20]:\n",
        "#   print(line)"
      ],
      "metadata": {
        "id": "gijPM5Jy3has"
      },
      "execution_count": 259,
      "outputs": []
    },
    {
      "cell_type": "code",
      "source": [
        "with open(\"/content/filteredtext.txt\") as f:\n",
        "  lines = f.read().splitlines()\n",
        "for line in lines[:20]:\n",
        "  print(line)"
      ],
      "metadata": {
        "colab": {
          "base_uri": "https://localhost:8080/"
        },
        "id": "P8RP67Ph5lm3",
        "outputId": "f7e86102-18b1-4d3c-801b-c5ac1582215f"
      },
      "execution_count": 260,
      "outputs": [
        {
          "output_type": "stream",
          "name": "stdout",
          "text": [
            " Evaluation – Canada Revenue Agency (CRA) Management Small Business Nudge Final Report Audit, Evaluation, Risk Branch June 2022 On page Executive summary \n",
            " 1. Introduction 2. Background 3. Evaluation methodologies 4. Findings, recommendations, management response 4.1 There standard definition “small business” \n",
            " CRA, none takes taxpayer-centric view. The evaluation team developed concept “closely-held” business address gap. 4.2 A taxpayer-centric segmentation approach \n",
            " could enhance CRA nudge impacts small businesses. 4.3 Many concerns regarding CRA nudge experimentations traced culture practice vertical rather horizontal integration. \n",
            " 5. Conclusion 6. Acknowledgement 7. Appendices Appendix A: Evaluation issues methodology Appendix B: List reports thematic evaluation Appendix C: Glossary \n",
            " Executive summary This evaluation second series evaluations small business adm Evaluation – Canada Revenue Agency (CRA) Management Small Business Nudge Final \n",
            " Report Audit, Evaluation, Risk Branch June 2022 On page Executive summary 1. Introduction 2. Background 3. Evaluation methodologies 4. Findings, recommendations, \n",
            " management response 4.1 There standard definition “small business” CRA, none takes taxpayer-centric view. The evaluation team developed concept “closely-held” \n",
            " business address gap. 4.2 A taxpayer-centric segmentation approach could enhance CRA nudge impacts small businesses. 4.3 Many concerns regarding CRA nudge experimentations\n",
            " traced culture practice vertical rather horizontal integration. 5. Conclusion 6. Acknowledgement 7. Appendices Appendix A: Evaluation issues methodology Appendix B: \n",
            " List reports thematic evaluation Appendix C: Glossary Executive summary This evaluation second series evaluations small business adm Evaluation – Canada Revenue Agency (CRA)\n",
            " Management Small Business Nudge Final Report Audit, Evaluation, Risk Branch June 2022 On page Executive summary 1. Introduction 2. Background 3. Evaluation methodologies \n",
            " 4. Findings, recommendations, management response 4.1 There standard definition “small business” CRA, none takes taxpayer-centric view. The evaluation team developed concept \n",
            " “closely-held” business address gap. 4.2 A taxpayer-centric segmentation approach could enhance CRA nudge impacts small businesses. 4.3 Many concerns regarding CRA nudge experimentations\n",
            " traced culture practice vertical rather horizontal integration. 5. Conclusion 6. Acknowledgement 7. Appendices Appendix A: Evaluation issues methodology Appendix B: List reports thematic \n",
            " evaluation Appendix C: Glossary Executive summary This evaluation second series evaluations small business administration Canada Revenue Agency (CRA). The purpose engagement provide Commissioner, \n",
            " CRA management, Board Management assessment CRA’s nudge Footnote 1 efforts applied Footnote 2 encouraging tax compliance among small business population. This report also examines CRA’s multiple \n",
            " definitions “small business” CRA’s data user experiences terms using CRA data conduct nudge activities. Nudge experimentation relies understanding small business taxpayer’s behaviours, attitudes, \n",
            " operating context. As result, nudge success depends horizontal governance related factors areas research data. When properly targeted designed, nudge intervention innovative cost-effective way \n",
            " facilitate voluntary compliance desired outcome Footnote 3 . Nudges, letter telephone reminders, intended encourage desired behaviours, helping taxpayers comply tax obligations, minimizing burden \n"
          ]
        }
      ]
    },
    {
      "cell_type": "code",
      "source": [
        "text_ds = tf.data.TextLineDataset(\"/content/filteredtext.txt\").filter(lambda x: tf.cast(tf.strings.length(x), bool))\n",
        "#text_ds = tf.data.TextLineDataset(path_to_file).filter(lambda x: tf.cast(tf.strings.length(x), bool))"
      ],
      "metadata": {
        "id": "H5SbzK36dItJ"
      },
      "execution_count": 261,
      "outputs": []
    },
    {
      "cell_type": "code",
      "source": [
        "text_ds"
      ],
      "metadata": {
        "id": "6FYlO2jIdMRz",
        "colab": {
          "base_uri": "https://localhost:8080/"
        },
        "outputId": "35d66eec-31f5-4a9c-d392-f76a1345be33"
      },
      "execution_count": 262,
      "outputs": [
        {
          "output_type": "execute_result",
          "data": {
            "text/plain": [
              "<_FilterDataset element_spec=TensorSpec(shape=(), dtype=tf.string, name=None)>"
            ]
          },
          "metadata": {},
          "execution_count": 262
        }
      ]
    },
    {
      "cell_type": "code",
      "source": [
        "# Now, create a custom standardization function to lowercase the text and\n",
        "# remove punctuation.\n",
        "def custom_standardization(input_data):\n",
        "  lowercase = tf.strings.lower(input_data)\n",
        "  return tf.strings.regex_replace(lowercase,\n",
        "                                  '[%s]' % re.escape(string.punctuation), '')\n",
        "\n",
        "\n",
        "# Define the vocabulary size and the number of words in a sequence.\n",
        "vocab_size = 4096\n",
        "sequence_length = 10\n",
        "\n",
        "# Use the `TextVectorization` layer to normalize, split, and map strings to\n",
        "# integers. Set the `output_sequence_length` length to pad all samples to the\n",
        "# same length.\n",
        "vectorize_layer = layers.TextVectorization(\n",
        "    standardize=custom_standardization,\n",
        "    max_tokens=vocab_size,\n",
        "    output_mode='int',\n",
        "    output_sequence_length=sequence_length)"
      ],
      "metadata": {
        "id": "YGSrou51gv8Z"
      },
      "execution_count": 263,
      "outputs": []
    },
    {
      "cell_type": "code",
      "source": [
        "vectorize_layer.adapt(text_ds.batch(1024))"
      ],
      "metadata": {
        "id": "RfyNDQd4hAdh"
      },
      "execution_count": 264,
      "outputs": []
    },
    {
      "cell_type": "code",
      "source": [
        "# Save the created vocabulary for reference.\n",
        "inverse_vocab = vectorize_layer.get_vocabulary()\n",
        "print(inverse_vocab[:20])"
      ],
      "metadata": {
        "colab": {
          "base_uri": "https://localhost:8080/"
        },
        "id": "A1FjdYOChD0x",
        "outputId": "0451a5f7-9985-47d1-b055-29328b533a86"
      },
      "execution_count": 265,
      "outputs": [
        {
          "output_type": "stream",
          "name": "stdout",
          "text": [
            "['', '[UNK]', 'nudge', 'cra', 'evaluation', 'data', 'the', 'business', 'small', 'research', 'taxpayercentric', 'segmentation', 'segments', 'footnote', 'population', 'management', 'compliance', 'team', 'branch', 'businesses']\n"
          ]
        }
      ]
    },
    {
      "cell_type": "code",
      "source": [
        "# Vectorize the data in text_ds.\n",
        "text_vector_ds = text_ds.batch(1024).prefetch(AUTOTUNE).map(vectorize_layer).unbatch()"
      ],
      "metadata": {
        "id": "-f0s5kZYhHYi"
      },
      "execution_count": 266,
      "outputs": []
    },
    {
      "cell_type": "code",
      "source": [
        "sequences = list(text_vector_ds.as_numpy_iterator())\n",
        "print(len(sequences))\n",
        "\n",
        "for seq in sequences[:5]:\n",
        "  print(f\"{seq} => {[inverse_vocab[i] for i in seq]}\")"
      ],
      "metadata": {
        "colab": {
          "base_uri": "https://localhost:8080/"
        },
        "id": "j7PllbBYhT93",
        "outputId": "d1ed71c0-6712-4e69-ae34-ed26ddb19f82"
      },
      "execution_count": 267,
      "outputs": [
        {
          "output_type": "stream",
          "name": "stdout",
          "text": [
            "101\n",
            "[  4 193  82  94  24   3  15   8   7   2] => ['evaluation', '–', 'canada', 'revenue', 'agency', 'cra', 'management', 'small', 'business', 'nudge']\n",
            "[ 31 213  46 231  66   4 168  45 133  51] => ['1', 'introduction', '2', 'background', '3', 'evaluation', 'methodologies', '4', 'findings', 'recommendations']\n",
            "[  3 128 150  10  40   6   4  17  21 138] => ['cra', 'none', 'takes', 'taxpayercentric', 'view', 'the', 'evaluation', 'team', 'developed', 'concept']\n",
            "[ 22 179   3   2 101   8  19 234  52  81] => ['could', 'enhance', 'cra', 'nudge', 'impacts', 'small', 'businesses', '43', 'many', 'concerns']\n",
            "[ 65 323  87 344 233 341  64  44   4 172] => ['5', 'conclusion', '6', 'acknowledgement', '7', 'appendices', 'appendix', 'a', 'evaluation', 'issues']\n"
          ]
        }
      ]
    },
    {
      "cell_type": "code",
      "source": [
        "#generate training examples from sequence\n",
        "targets, contexts, labels = generate_training_data(\n",
        "    sequences=sequences,\n",
        "    window_size=2,\n",
        "    num_ns=4,\n",
        "    vocab_size=vocab_size,\n",
        "    seed=SEED)\n",
        "\n",
        "targets = np.array(targets)\n",
        "contexts = np.array(contexts)\n",
        "labels = np.array(labels)\n",
        "\n",
        "print(f\"targets: {targets}\")\n",
        "print(f\"contexts: {contexts}\")\n",
        "print(f\"labels: {labels}\")\n",
        "\n",
        "print('\\n')\n",
        "print(f\"targets.shape: {targets.shape}\")\n",
        "print(f\"contexts.shape: {contexts.shape}\")\n",
        "print(f\"labels.shape: {labels.shape}\")"
      ],
      "metadata": {
        "colab": {
          "base_uri": "https://localhost:8080/"
        },
        "id": "zC3JoPb6hqOh",
        "outputId": "f1bae4c2-e32a-47b5-ce55-c1f941a5bd21"
      },
      "execution_count": 268,
      "outputs": [
        {
          "output_type": "stream",
          "name": "stderr",
          "text": [
            "100%|██████████| 101/101 [00:00<00:00, 898.18it/s]"
          ]
        },
        {
          "output_type": "stream",
          "name": "stdout",
          "text": [
            "targets: [ 231  213  231  231  231  168  213  168  213  168  168   52   52   81\n",
            "   81   52   42   42  131   42  131  131   42  131   47   47  141  141\n",
            "  141  141  240  914  240  240  914  836  365  365  836  836  365  836\n",
            "  982  230  872  100  872  100  982  100  230  984  984  984  872  230\n",
            "  230  872  100  984  375  375  375  375  300  300  300  300   75   75\n",
            "   75   75  140  140  140  140  313 1055   50   50  313  313 1055  313\n",
            "   77   77   77   77  437  260  437  260  260  437  260  260 1083  257\n",
            " 1083  257  257  260 1083  873  873  873  257  260  873  135  135  135\n",
            "   23  135   23   23   23  953  953  953  953  363  363  363  363  139\n",
            "  139  139  139  718  718  918  672  918  918  672  440  440  918  672\n",
            "  672  440  440  141  141  141  141  689  689  359  359  689  689  359\n",
            "  359   70   70   70   70   53  181   53   53   53  181  181  181  917\n",
            "  214  917  917  214  917  716  716  269  269  269  214  214  214  214\n",
            "  484  342  342  484  484  579 1125  579  579  579 1125  637  637  255\n",
            "  637  255  637  255  255  338  338  338  338  988  753  988  753  753\n",
            "  988  988  734  734   78   78  289   78   78  289  289  249  249  536\n",
            "  536  536  536 1107 1107  112  112  112  112  125  125  125 1051  266\n",
            "  677 1051  677  266 1051  677  677  266  266 1051  312  312  312  980\n",
            "  980   63   63   63   63  462  181  181  181  462  462  462  728  728\n",
            "  728  728  724  724  724  257   40  257   40  257   40   40  257  531\n",
            "  531  376  376  376  531  531  480  456  456  456  456  480  331  331\n",
            "  941  941  939  557  939  941  939  557  941  326  326  326  326  433\n",
            "  433  433  376  376  963  963  963  963  395  395  395  395  288  288\n",
            "  288  413  413  413  413  798  798  798  622  622  622  622  137  137\n",
            "  137  137]\n",
            "contexts: [[ 213    3 1122  986  105]\n",
            " [  31 3938    1  530   89]\n",
            " [  46 2246   81   22  602]\n",
            " ...\n",
            " [ 230    2    0 3700  379]\n",
            " [ 354    0  590   31   36]\n",
            " [ 236   15 1436   68   58]]\n",
            "labels: [[1 0 0 0 0]\n",
            " [1 0 0 0 0]\n",
            " [1 0 0 0 0]\n",
            " ...\n",
            " [1 0 0 0 0]\n",
            " [1 0 0 0 0]\n",
            " [1 0 0 0 0]]\n",
            "\n",
            "\n",
            "targets.shape: (338,)\n",
            "contexts.shape: (338, 5)\n",
            "labels.shape: (338, 5)\n"
          ]
        },
        {
          "output_type": "stream",
          "name": "stderr",
          "text": [
            "\n"
          ]
        }
      ]
    },
    {
      "cell_type": "code",
      "source": [
        "#configure dataset for performance\n",
        "BATCH_SIZE = 1024\n",
        "BUFFER_SIZE = 10000\n",
        "dataset = tf.data.Dataset.from_tensor_slices(((targets, contexts), labels))\n",
        "dataset = dataset.shuffle(BUFFER_SIZE).batch(BATCH_SIZE, drop_remainder=True)\n",
        "print(dataset)\n",
        "\n",
        "dataset = dataset.cache().prefetch(buffer_size=AUTOTUNE)\n",
        "print(dataset)\n",
        "\n",
        "for element in dataset:\n",
        "    print(element)"
      ],
      "metadata": {
        "colab": {
          "base_uri": "https://localhost:8080/"
        },
        "id": "f6JK0rfbhxqg",
        "outputId": "ecc1e955-d824-4421-e886-35140cc06c17"
      },
      "execution_count": 275,
      "outputs": [
        {
          "output_type": "stream",
          "name": "stdout",
          "text": [
            "<_BatchDataset element_spec=((TensorSpec(shape=(1024,), dtype=tf.int64, name=None), TensorSpec(shape=(1024, 5), dtype=tf.int64, name=None)), TensorSpec(shape=(1024, 5), dtype=tf.int64, name=None))>\n",
            "<_PrefetchDataset element_spec=((TensorSpec(shape=(1024,), dtype=tf.int64, name=None), TensorSpec(shape=(1024, 5), dtype=tf.int64, name=None)), TensorSpec(shape=(1024, 5), dtype=tf.int64, name=None))>\n"
          ]
        }
      ]
    },
    {
      "cell_type": "code",
      "source": [
        "class Word2Vec(tf.keras.Model):\n",
        "  def __init__(self, vocab_size, embedding_dim):\n",
        "    super(Word2Vec, self).__init__()\n",
        "    self.target_embedding = layers.Embedding(vocab_size,\n",
        "                                      embedding_dim,\n",
        "                                      input_length=1,\n",
        "                                      name=\"w2v_embedding\")\n",
        "    self.context_embedding = layers.Embedding(vocab_size,\n",
        "                                       embedding_dim,\n",
        "                                       input_length=num_ns+1)\n",
        "\n",
        "  def call(self, pair):\n",
        "    target, context = pair\n",
        "    # target: (batch, dummy?)  # The dummy axis doesn't exist in TF2.7+\n",
        "    # context: (batch, context)\n",
        "    if len(target.shape) == 2:\n",
        "      target = tf.squeeze(target, axis=1)\n",
        "    # target: (batch,)\n",
        "    word_emb = self.target_embedding(target)\n",
        "    # word_emb: (batch, embed)\n",
        "    context_emb = self.context_embedding(context)\n",
        "    # context_emb: (batch, context, embed)\n",
        "    dots = tf.einsum('be,bce->bc', word_emb, context_emb)\n",
        "    # dots: (batch, context)\n",
        "    return dots"
      ],
      "metadata": {
        "id": "wd7VpyElh2qw"
      },
      "execution_count": 276,
      "outputs": []
    },
    {
      "cell_type": "code",
      "source": [
        "# #define loss function\n",
        "# def custom_loss(x_logit, y_true):\n",
        "#       return tf.nn.sigmoid_cross_entropy_with_logits(logits=x_logit, labels=y_true)\n",
        "\n",
        "embedding_dim = 128\n",
        "word2vec = Word2Vec(vocab_size, embedding_dim)\n",
        "word2vec.compile(optimizer='adam',\n",
        "                 loss=tf.keras.losses.CategoricalCrossentropy(from_logits=True),\n",
        "                 metrics=['accuracy'])\n",
        "\n",
        "tensorboard_callback = tf.keras.callbacks.TensorBoard(log_dir=\"logs\")"
      ],
      "metadata": {
        "id": "gppQR36Gh5Sn"
      },
      "execution_count": 281,
      "outputs": []
    },
    {
      "cell_type": "code",
      "source": [
        "word2vec.fit(dataset, epochs=20, callbacks=[tensorboard_callback])\n",
        "#BUG: this line was okay for the codes in the example: https://www.tensorflow.org/tutorials/text/word2vec\n",
        "#for the current input dataset, the training script doeesnt work"
      ],
      "metadata": {
        "colab": {
          "base_uri": "https://localhost:8080/",
          "height": 415
        },
        "id": "Vk_CoFPV9Nnb",
        "outputId": "9f46b885-f030-4b50-b8a1-ced45c8c7337"
      },
      "execution_count": 282,
      "outputs": [
        {
          "output_type": "stream",
          "name": "stdout",
          "text": [
            "Epoch 1/20\n"
          ]
        },
        {
          "output_type": "error",
          "ename": "ValueError",
          "evalue": "ignored",
          "traceback": [
            "\u001b[0;31m---------------------------------------------------------------------------\u001b[0m",
            "\u001b[0;31mValueError\u001b[0m                                Traceback (most recent call last)",
            "\u001b[0;32m<ipython-input-282-103eb94a2bb7>\u001b[0m in \u001b[0;36m<cell line: 1>\u001b[0;34m()\u001b[0m\n\u001b[0;32m----> 1\u001b[0;31m \u001b[0mword2vec\u001b[0m\u001b[0;34m.\u001b[0m\u001b[0mfit\u001b[0m\u001b[0;34m(\u001b[0m\u001b[0mdataset\u001b[0m\u001b[0;34m,\u001b[0m \u001b[0mepochs\u001b[0m\u001b[0;34m=\u001b[0m\u001b[0;36m20\u001b[0m\u001b[0;34m,\u001b[0m \u001b[0mcallbacks\u001b[0m\u001b[0;34m=\u001b[0m\u001b[0;34m[\u001b[0m\u001b[0mtensorboard_callback\u001b[0m\u001b[0;34m]\u001b[0m\u001b[0;34m)\u001b[0m\u001b[0;34m\u001b[0m\u001b[0;34m\u001b[0m\u001b[0m\n\u001b[0m\u001b[1;32m      2\u001b[0m \u001b[0;31m#BUG: this line was okay for the codes in the example: https://www.tensorflow.org/tutorials/text/word2vec\u001b[0m\u001b[0;34m\u001b[0m\u001b[0;34m\u001b[0m\u001b[0m\n\u001b[1;32m      3\u001b[0m \u001b[0;31m#for the current input dataset, the training script doeesnt work\u001b[0m\u001b[0;34m\u001b[0m\u001b[0;34m\u001b[0m\u001b[0m\n",
            "\u001b[0;32m/usr/local/lib/python3.10/dist-packages/keras/utils/traceback_utils.py\u001b[0m in \u001b[0;36merror_handler\u001b[0;34m(*args, **kwargs)\u001b[0m\n\u001b[1;32m     68\u001b[0m             \u001b[0;31m# To get the full stack trace, call:\u001b[0m\u001b[0;34m\u001b[0m\u001b[0;34m\u001b[0m\u001b[0m\n\u001b[1;32m     69\u001b[0m             \u001b[0;31m# `tf.debugging.disable_traceback_filtering()`\u001b[0m\u001b[0;34m\u001b[0m\u001b[0;34m\u001b[0m\u001b[0m\n\u001b[0;32m---> 70\u001b[0;31m             \u001b[0;32mraise\u001b[0m \u001b[0me\u001b[0m\u001b[0;34m.\u001b[0m\u001b[0mwith_traceback\u001b[0m\u001b[0;34m(\u001b[0m\u001b[0mfiltered_tb\u001b[0m\u001b[0;34m)\u001b[0m \u001b[0;32mfrom\u001b[0m \u001b[0;32mNone\u001b[0m\u001b[0;34m\u001b[0m\u001b[0;34m\u001b[0m\u001b[0m\n\u001b[0m\u001b[1;32m     71\u001b[0m         \u001b[0;32mfinally\u001b[0m\u001b[0;34m:\u001b[0m\u001b[0;34m\u001b[0m\u001b[0;34m\u001b[0m\u001b[0m\n\u001b[1;32m     72\u001b[0m             \u001b[0;32mdel\u001b[0m \u001b[0mfiltered_tb\u001b[0m\u001b[0;34m\u001b[0m\u001b[0;34m\u001b[0m\u001b[0m\n",
            "\u001b[0;32m/usr/local/lib/python3.10/dist-packages/keras/engine/training.py\u001b[0m in \u001b[0;36mfit\u001b[0;34m(self, x, y, batch_size, epochs, verbose, callbacks, validation_split, validation_data, shuffle, class_weight, sample_weight, initial_epoch, steps_per_epoch, validation_steps, validation_batch_size, validation_freq, max_queue_size, workers, use_multiprocessing)\u001b[0m\n\u001b[1;32m   1695\u001b[0m                 \u001b[0mlogs\u001b[0m \u001b[0;34m=\u001b[0m \u001b[0mtf_utils\u001b[0m\u001b[0;34m.\u001b[0m\u001b[0msync_to_numpy_or_python_type\u001b[0m\u001b[0;34m(\u001b[0m\u001b[0mlogs\u001b[0m\u001b[0;34m)\u001b[0m\u001b[0;34m\u001b[0m\u001b[0;34m\u001b[0m\u001b[0m\n\u001b[1;32m   1696\u001b[0m                 \u001b[0;32mif\u001b[0m \u001b[0mlogs\u001b[0m \u001b[0;32mis\u001b[0m \u001b[0;32mNone\u001b[0m\u001b[0;34m:\u001b[0m\u001b[0;34m\u001b[0m\u001b[0;34m\u001b[0m\u001b[0m\n\u001b[0;32m-> 1697\u001b[0;31m                     raise ValueError(\n\u001b[0m\u001b[1;32m   1698\u001b[0m                         \u001b[0;34m\"Unexpected result of `train_function` \"\u001b[0m\u001b[0;34m\u001b[0m\u001b[0;34m\u001b[0m\u001b[0m\n\u001b[1;32m   1699\u001b[0m                         \u001b[0;34m\"(Empty logs). Please use \"\u001b[0m\u001b[0;34m\u001b[0m\u001b[0;34m\u001b[0m\u001b[0m\n",
            "\u001b[0;31mValueError\u001b[0m: Unexpected result of `train_function` (Empty logs). Please use `Model.compile(..., run_eagerly=True)`, or `tf.config.run_functions_eagerly(True)` for more information of where went wrong, or file a issue/bug to `tf.keras`."
          ]
        }
      ]
    },
    {
      "cell_type": "code",
      "source": [
        "#docs_infra: no_execute\n",
        "%tensorboard --logdir logs"
      ],
      "metadata": {
        "id": "DCQZi8t_iGIh"
      },
      "execution_count": null,
      "outputs": []
    }
  ]
}