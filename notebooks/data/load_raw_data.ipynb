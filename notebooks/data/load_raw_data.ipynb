{
 "cells": [
  {
   "cell_type": "code",
   "execution_count": 1,
   "metadata": {},
   "outputs": [],
   "source": [
    "from bs4 import BeautifulSoup\n",
    "import requests\n",
    "import os"
   ]
  },
  {
   "cell_type": "code",
   "execution_count": 31,
   "metadata": {},
   "outputs": [],
   "source": [
    "def is_match(url, patterns):\n",
    "        if url is None:\n",
    "            return False\n",
    "        for pattern in patterns:\n",
    "            if pattern in url:\n",
    "                return url\n",
    "        return False"
   ]
  },
  {
   "cell_type": "code",
   "execution_count": 32,
   "metadata": {},
   "outputs": [],
   "source": [
    "def get_urls(url, pattern):\n",
    "    page = requests.get(url)\n",
    "    soup = BeautifulSoup(page.content, 'html.parser')\n",
    "    urls = []\n",
    "    names = []\n",
    "    for link in soup.find_all('a'):\n",
    "            url = link.get('href')\n",
    "            if url := is_match(url, pattern):\n",
    "                urls.append(url)\n",
    "                names.append(link.text)\n",
    "    return urls, names\n"
   ]
  },
  {
   "cell_type": "code",
   "execution_count": 33,
   "metadata": {},
   "outputs": [],
   "source": [
    "# base_url = 'https://www.canada.ca/en/revenue-agency/programs/about-canada-revenue-agency-cra/internal-audit-program-evaluation.html'\n",
    "base_url = 'https://natural-resources.canada.ca/transparency/reporting-and-accountability/plans-and-performance-reports/strategic-evaluation-division/year/782'\n",
    "p_urls, p_names = get_urls(base_url, ['/evaluation-reports-', 'strategic-evaluation-division/year/2020'])"
   ]
  },
  {
   "cell_type": "code",
   "execution_count": 34,
   "metadata": {},
   "outputs": [],
   "source": [
    "urls = []\n",
    "names = []\n",
    "for p_url in p_urls:\n",
    "    \n",
    "    _urls, _names = get_urls(p_url, ['evaluation'])\n",
    "    urls += _urls\n",
    "    names += _names"
   ]
  },
  {
   "cell_type": "code",
   "execution_count": 36,
   "metadata": {},
   "outputs": [
    {
     "name": "stdout",
     "output_type": "stream",
     "text": [
      "121\n",
      "11\n"
     ]
    },
    {
     "data": {
      "text/plain": [
       "['https://ressources-naturelles.canada.ca/transparence/rapports-et-responsabilisation/plans-et-rapports-sur-le-rendement/division-de-levaluation-strategique/par-annee/rapports-devaluation-2023/25000',\n",
       " 'https://natural-resources.canada.ca/nrcan/transparency/reporting-accountability/plans-performance-reports/strategic-evaluation-division/207',\n",
       " 'https://natural-resources.canada.ca/transparency/reporting-and-accountability/plans-and-performance-reports/strategic-evaluation-division/year/782',\n",
       " 'https://natural-resources.canada.ca/transparency/reporting-and-accountability/plans-and-performance-reports/audit-and-evaluation/reports-year/reports-2023/evaluation-the-climate-change-adaptation-program/25031',\n",
       " 'https://natural-resources.canada.ca/transparency/reporting-and-accountability/plans-and-performance-reports/audit-and-evaluation/reports-year/reports-2023/summary-the-evaluation-the-climate-change-adaptation-ccap-program/25033',\n",
       " 'https://contact-contactez.nrcan-rncan.gc.ca/index.cfm?lang=eng&context=https://natural-resources.canada.ca/transparency/reporting-and-accountability/plans-and-performance-reports/strategic-evaluation-division/year/evaluation-reports-2023/24999',\n",
       " 'https://ressources-naturelles.canada.ca/transparence/rapports-et-responsabilisation/plans-et-rapports-sur-le-rendement/division-de-levaluation-strategique/par-annee/rapports-devaluation-2022/24164',\n",
       " 'https://natural-resources.canada.ca/nrcan/transparency/reporting-accountability/plans-performance-reports/strategic-evaluation-division/207',\n",
       " 'https://natural-resources.canada.ca/transparency/reporting-and-accountability/plans-and-performance-reports/strategic-evaluation-division/year/782',\n",
       " 'https://natural-resources.canada.ca/transparency/reporting-and-accountability/plans-and-performance-reports/audit-and-evaluation/joint-audit-and-evaluation-the-impact-canada-initiative-clean-technology-stream/24145',\n",
       " 'https://natural-resources.canada.ca/transparency/reporting-and-accountability/plans-and-performance-reports/audit-and-evaluation/audit-and-evaluation-the-impact-canada-initiative-clean-technology-stream/24155',\n",
       " 'https://natural-resources.canada.ca/transparency/reporting-and-accountability/plans-and-performance-reports/audit-and-evaluation/joint-audit-and-evaluation-the-transition-the-departmental-results-framework/24352',\n",
       " 'https://natural-resources.canada.ca/transparency/reporting-and-accountability/plans-and-performance-reports/audit-and-evaluation/summary-the-joint-audit-and-evaluation-the-transition-the-departmental-results-framew/24359',\n",
       " 'https://natural-resources.canada.ca/transparency/reporting-and-accountability/plans-and-performance-reports/strategic-evaluation-division/year/evaluation-reports-2022/evaluation-the-geoscience-keep-canada-safe-program/24538',\n",
       " 'https://natural-resources.canada.ca/transparency/reporting-and-accountability/plans-and-performance-reports/strategic-evaluation-division/year/summary-the-evaluation-the-geoscience-keep-canada-safe-program/summary-the-evaluation-the',\n",
       " 'https://natural-resources.canada.ca/transparency/reporting-and-accountability/plans-and-performance-reports/audit-and-evaluation/joint-evaluation-and-audit-the-spruce-budworm-early-intervention-strategy-phase-ii/24553',\n",
       " 'https://natural-resources.canada.ca/transparency/reporting-and-accountability/plans-and-performance-reports/strategic-evaluation-division/joint-audit-and-evaluation-the-spruce-budworm-early-intervention-strategy-phase-ii/24555',\n",
       " 'https://natural-resources.canada.ca/transparency/reporting-and-accountability/plans-and-performance-reports/strategic-evaluation-division/year/evaluation-the-clean-growth-program/24783',\n",
       " 'https://natural-resources.canada.ca/transparency/reporting-and-accountability/plans-and-performance-reports/strategic-evaluation-division/year/summary-the-evaluation-the-clean-growth-program/24784',\n",
       " 'https://natural-resources.canada.ca/transparency/reporting-and-accountability/plans-and-performance-reports/strategic-evaluation-division/year/evaluation-reports-2022/tmx-phase-iv-coordination/24849',\n",
       " 'https://natural-resources.canada.ca/transparency/reporting-and-accountability/plans-and-performance-reports/strategic-evaluation-division/year/evaluation-reports-2022/summary-tmx-phase-iv-coordination/24867',\n",
       " 'https://contact-contactez.nrcan-rncan.gc.ca/index.cfm?lang=eng&context=https://natural-resources.canada.ca/transparency/reporting-and-accountability/plans-and-performance-reports/strategic-evaluation-division/year/evaluation-reports-2022/24163',\n",
       " 'https://ressources-naturelles.canada.ca/transparence/rapports-et-responsabilisation/plans-et-rapports-sur-le-rendement/division-de-levaluation-strategique/plans-et-rapports-par-annee/rapports-devaluation-2021/23695',\n",
       " 'https://natural-resources.canada.ca/nrcan/transparency/reporting-accountability/plans-performance-reports/strategic-evaluation-division/207',\n",
       " 'https://natural-resources.canada.ca/transparency/reporting-and-accountability/plans-and-performance-reports/strategic-evaluation-division/year/782',\n",
       " 'https://natural-resources.canada.ca/transparency/reporting-and-accountability/plans-and-performance-reports/strategic-evaluation-division/reports-and-plans-year/evaluation-the-clean-growth-hub-program/evaluation-the-clean-growth-hub',\n",
       " 'https://natural-resources.canada.ca/transparency/reporting-and-accountability/plans-and-performance-reports/audit-and-evaluation/reports-year/reports-2021/summary-the-evaluation-the-clean-growth-hub-hub/23771',\n",
       " 'https://natural-resources.canada.ca/transparency/reporting-and-accountability/plans-and-performance-reports/audit-and-evaluation/reports-year/reports-2021/independent-assessment-the-polar-continental-shelf-program/23743',\n",
       " 'https://natural-resources.canada.ca/transparency/reporting-and-accountability/plans-and-performance-reports/audit-and-evaluation/reports-year/summary-the-assessment-natural-resource-canadas-polar-continental-shelf-program/summary-the',\n",
       " 'https://natural-resources.canada.ca/transparency/reporting-and-accountability/plans-and-performance-reports/audit-and-evaluation/reports-year/joint-audit-and-evaluation-assessment-nrcans-departmental-governance/23631',\n",
       " 'https://natural-resources.canada.ca/transparency/reporting-and-accountability/plans-and-performance-reports/audit-and-evaluation/reports-year/summary-the-assessment-natural-resource-canadas-departmental-governance/summary-the-assessment',\n",
       " 'https://contact-contactez.nrcan-rncan.gc.ca/index.cfm?lang=eng&context=https://natural-resources.canada.ca/transparency/reporting-and-accountability/plans-and-performance-reports/strategic-evaluation-division/reports-and-plans-year/evaluation-reports-2021/23694',\n",
       " 'https://ressources-naturelles.canada.ca/transparence/rapports-et-responsabilisation/plans-et-rapports-sur-le-rendement/division-de-levaluation-strategique/par-annee/2020/22755',\n",
       " 'https://natural-resources.canada.ca/nrcan/transparency/reporting-accountability/plans-performance-reports/strategic-evaluation-division/207',\n",
       " 'https://natural-resources.canada.ca/transparency/reporting-and-accountability/plans-and-performance-reports/strategic-evaluation-division/year/782',\n",
       " 'https://natural-resources.canada.ca/transparency/reporting-and-accountability/plans-and-performance-reports/audit-and-evaluation/reports-year/reports-2020/impact-evaluation-the-renewable-energy-deployment-red-program/23395',\n",
       " 'https://natural-resources.canada.ca/transparency/reporting-and-accountability/plans-and-performance-reports/strategic-evaluation-division/reports-and-plans-year/summary-the-impact-evaluation-the-renewable-energy-deployment-red-program',\n",
       " 'https://natural-resources.canada.ca/transparency/reporting-and-accountability/plans-and-performance-reports/strategic-evaluation-division/reports-and-plans-year/evaluation-the-energy-and-climate-change-policy-eccp-program/evaluation-the',\n",
       " 'https://natural-resources.canada.ca/transparency/reporting-and-accountability/plans-and-performance-reports/strategic-evaluation-division/reports-and-plans-year/summary-the-evaluation-natural-resource-canadas-energy-and-climate-change',\n",
       " 'https://natural-resources.canada.ca/transparency/reporting-and-accountability/plans-and-performance-reports/strategic-evaluation-division/reports-and-plans-year/evaluation-the-energy-efficiency-program/23396',\n",
       " 'https://natural-resources.canada.ca/transparency/reporting-and-accountability/plans-and-performance-reports/strategic-evaluation-division/reports-and-plans-year/summary-the-evaluation-the-energy-efficiency-program/23421',\n",
       " 'https://natural-resources.canada.ca/transparency/reporting-and-accountability/plans-and-performance-reports/strategic-evaluation-division/evaluation-the-west-coast-energy-infrastructure-initiative-wcei/evaluation-the-west-coast-energy',\n",
       " 'https://natural-resources.canada.ca/transparency/reporting-and-accountability/plans-and-performance-reports/strategic-evaluation-division/summary-the-evaluation-the-west-coast-energy-infrastructure-initiative/summary-the-evaluation-the',\n",
       " 'https://natural-resources.canada.ca/transparency/reporting-and-accountability/plans-and-performance-reports/strategic-evaluation-division/reports-and-plans-year/horizontal-evaluation-the-major-projects-management-office-initiative-mpmoi',\n",
       " 'https://natural-resources.canada.ca/transparency/reporting-and-accountability/plans-and-performance-reports/strategic-evaluation-division/reports-and-plans-year/horizontal-evaluation-the-major-projects-management-office-initiative',\n",
       " 'https://natural-resources.canada.ca/nrcan/transparency/reporting-accountability/plans-performance-reports/audit-evaluation/reports-year/reports-2020/joint-audit-and-evaluation-report-implementation-extractive-sector-transparency',\n",
       " 'https://natural-resources.canada.ca/transparency/reporting-and-accountability/plans-and-performance-reports/strategic-evaluation-division/implementation-the-extractive-sector-transparency-measures-act-joint-audit-evaluation',\n",
       " 'https://natural-resources.canada.ca/transparency/reporting-and-accountability/plans-and-performance-reports/audit-and-evaluation/reports-year/reports-2020/tgi-5-evaluation/22977',\n",
       " 'https://natural-resources.canada.ca/transparency/reporting-and-accountability/plans-and-performance-reports/strategic-evaluation-division/year/2020/tgi-5-evaluation-summary/22984',\n",
       " 'https://contact-contactez.nrcan-rncan.gc.ca/index.cfm?lang=eng&context=https://natural-resources.canada.ca/transparency/reporting-and-accountability/plans-and-performance-reports/strategic-evaluation-division/year/2020/22751',\n",
       " 'https://ressources-naturelles.canada.ca/node/rapports-et-responsabilisation/plans-et-rapports-sur-le-rendement/division-de-levaluation-strategique/plans-et-rapports-par-annee/rapports-devaluation-2019/22370',\n",
       " 'https://natural-resources.canada.ca/nrcan/transparency/reporting-accountability/plans-performance-reports/strategic-evaluation-division/207',\n",
       " 'https://natural-resources.canada.ca/transparency/reporting-and-accountability/plans-and-performance-reports/strategic-evaluation-division/year/782',\n",
       " 'https://natural-resources.canada.ca/nrcan/plans-performance-reports/strategic-evaluation-division/reports-plans-year/evaluation-reports-2014/evaluation-expanding-market-opportunities-emo-program/22667',\n",
       " 'https://natural-resources.canada.ca/transparency/reporting-and-accountability/plans-and-performance-reports/strategic-evaluation-division/reports-and-plans-year/evaluation-natural-resource-canadas-expanding-market-opportunities-emo',\n",
       " 'https://natural-resources.canada.ca/transparency/reporting-and-accountability/plans-and-performance-reports/strategic-evaluation-division/reports-and-plans-year/evaluation-the-forest-sector-innovation-fsi-programs/22836',\n",
       " 'https://natural-resources.canada.ca/transparency/reporting-and-accountability/plans-and-performance-reports/strategic-evaluation-division/summary-the-evaluation-natural-resources-canadas-forest-sector-innovation-fsi-program/summary-the',\n",
       " 'https://natural-resources.canada.ca/nrcan/transparency/reporting-accountability/plans-performance-reports/audit-evaluation/reports-year/reports-2019/joint-audit-evaluation-electric-vehicle-alternative-fuel-infrastructure-deployment',\n",
       " 'https://natural-resources.canada.ca/transparency/reporting-and-accountability/plans-and-performance-reports/strategic-evaluation-division/reports-and-plans-year/evaluation-the-energy-innovation-program/22401',\n",
       " 'https://natural-resources.canada.ca/transparency/reporting-and-accountability/plans-and-performance-reports/strategic-evaluation-division/reports-and-plans-year/evaluation-the-energy-innovation-program-summary/22406',\n",
       " 'https://natural-resources.canada.ca/transparency/reporting-and-accountability/plans-and-performance-reports/strategic-evaluation-division/reports-and-plans-year/evaluation-the-regional-electricity-cooperation-and-strategic',\n",
       " 'https://natural-resources.canada.ca/transparency/reporting-and-accountability/plans-and-performance-reports/strategic-evaluation-division/reports-and-plans-year/summary-the-evaluation-the-regional-electricity-cooperation-and-strategic',\n",
       " 'https://contact-contactez.nrcan-rncan.gc.ca/index.cfm?lang=eng&context=https://natural-resources.canada.ca/transparency/reporting-and-accountability/plans-and-performance-reports/strategic-evaluation-division/reports-and-plans-year/evaluation-reports-2019/22369',\n",
       " 'https://ressources-naturelles.canada.ca/node/rapports-et-responsabilisation/plans-et-rapports-sur-le-rendement/division-de-levaluation-strategique/plans-et-rapports-par-annee/rapports-devaluation-2018/21227',\n",
       " 'https://natural-resources.canada.ca/nrcan/transparency/reporting-accountability/plans-performance-reports/strategic-evaluation-division/207',\n",
       " 'https://natural-resources.canada.ca/transparency/reporting-and-accountability/plans-and-performance-reports/strategic-evaluation-division/year/782',\n",
       " 'https://natural-resources.canada.ca/evaluation-indigenous-partnerships-office-west-ipo-west/21727',\n",
       " 'https://natural-resources.canada.ca/evaluation-mining-innovation-sub-program/21274',\n",
       " 'https://natural-resources.canada.ca/transparency/reporting-and-accountability/plans-and-performance-reports/strategic-evaluation-division/reports-and-plans-year/evaluation-the-geo-mapping-for-energy-and-minerals-gem-2-program/evaluation',\n",
       " 'https://natural-resources.canada.ca/transparency/reporting-and-accountability/plans-and-performance-reports/strategic-evaluation-division/reports-and-plans-year/summary-the-evaluation-the-geo-mapping-for-energy-and-minerals-program',\n",
       " 'https://natural-resources.canada.ca/transparency/reporting-and-accountability/plans-and-performance-reports/strategic-evaluation-division/reports-and-plans-year/summary-the-the-evaluation-the-essential-geographic-information-egi-sub',\n",
       " 'https://natural-resources.canada.ca/transparency/reporting-and-accountability/plans-and-performance-reports/strategic-evaluation-division/reports-and-plans-year/evaluation-the-essential-geographic-information-sub-program/evaluation-the',\n",
       " 'https://contact-contactez.nrcan-rncan.gc.ca/index.cfm?lang=eng&context=https://natural-resources.canada.ca/transparency/reporting-and-accountability/plans-and-performance-reports/strategic-evaluation-division/reports-and-plans-year/evaluation-reports-2018/21226',\n",
       " 'https://ressources-naturelles.canada.ca/node/rapports-et-responsabilisation/plans-et-rapports-sur-le-rendement/division-de-levaluation-strategique/plans-et-rapports-par-annee/rapports-devaluation-2017/20539',\n",
       " 'https://natural-resources.canada.ca/nrcan/transparency/reporting-accountability/plans-performance-reports/strategic-evaluation-division/207',\n",
       " 'https://natural-resources.canada.ca/transparency/reporting-and-accountability/plans-and-performance-reports/strategic-evaluation-division/year/782',\n",
       " 'https://natural-resources.canada.ca/transparency/reporting-and-accountability/plans-and-performance-reports/strategic-evaluation-division/summary-the-evaluation-the-nuclear-legacy-liabilities-program-nllp/summary-the-evaluation-the',\n",
       " 'https://natural-resources.canada.ca/transparency/reporting-and-accountability/plans-and-performance-reports/strategic-evaluation-division/reports-and-plans-year/evaluation-the-nuclear-legacy-liabilities-program-nllp/20540',\n",
       " 'https://natural-resources.canada.ca/transparency/reporting-and-accountability/plans-and-performance-reports/strategic-evaluation-division/reports-and-plans-year/summary-the-evaluation-the-departmental-class-grants-and-contributions',\n",
       " 'https://natural-resources.canada.ca/transparency/reporting-and-accountability/plans-and-performance-reports/strategic-evaluation-division/evaluation-the-departmental-class-grants-and-contributions-program-dcgcp/evaluation-the',\n",
       " 'https://natural-resources.canada.ca/transparency/reporting-and-accountability/plans-and-performance-reports/strategic-evaluation-division/reports-and-plans-year/evaluation-the-forest-disturbances-science-and-applications-sub-program',\n",
       " 'https://natural-resources.canada.ca/transparency/reporting-and-accountability/plans-and-performance-reports/strategic-evaluation-division/evaluation-the-forest-disturbances-science-and-applications-sub-program/evaluation-the-forest',\n",
       " 'https://contact-contactez.nrcan-rncan.gc.ca/index.cfm?lang=eng&context=https://natural-resources.canada.ca/transparency/reporting-and-accountability/plans-and-performance-reports/strategic-evaluation-division/reports-and-plans-year/evaluation-reports-2017/20538',\n",
       " 'https://ressources-naturelles.canada.ca/node/rapports-et-responsabilisation/plans-et-rapports-sur-le-rendement/division-de-levaluation-strategique/plans-et-rapports-par-annee/rapports-devaluation-2016/18626',\n",
       " 'https://natural-resources.canada.ca/nrcan/transparency/reporting-accountability/plans-performance-reports/strategic-evaluation-division/207',\n",
       " 'https://natural-resources.canada.ca/transparency/reporting-and-accountability/plans-and-performance-reports/strategic-evaluation-division/year/782',\n",
       " 'https://natural-resources.canada.ca/transparency/reporting-and-accountability/plans-and-performance-reports/strategic-evaluation-division/evaluation-report-synthesis-the-clean-energy-science-and-technology-sub-program/evaluation-report',\n",
       " 'https://natural-resources.canada.ca/maps-tools-publications/publications/minerals-mining-publications/evaluation-report-ecoenergy-alternative-fuels-program/18646',\n",
       " 'https://natural-resources.canada.ca/transparency/reporting-and-accountability/plans-and-performance-reports/strategic-evaluation-division/reports-and-plans-year/evaluation-report-geoconnections-program-phase-iii/evaluation-report',\n",
       " 'https://www.canada.ca/en/environment-climate-change/corporate/transparency/priorities-management/evaluations/clean-air-agenda-international-actions.html',\n",
       " 'https://natural-resources.canada.ca/transparency/reporting-and-accountability/plans-and-performance-reports/strategic-evaluation-division/evaluation-report-forest-products-market-access-and-development/evaluation-report-forest-products',\n",
       " 'https://contact-contactez.nrcan-rncan.gc.ca/index.cfm?lang=eng&context=https://natural-resources.canada.ca/transparency/reporting-and-accountability/plans-and-performance-reports/strategic-evaluation-division/reports-and-plans-year/evaluation-reports-2016/18625',\n",
       " 'https://ressources-naturelles.canada.ca/node/rapports-et-responsabilisation/plans-et-rapports-sur-le-rendement/division-de-levaluation-strategique/plans-et-rapports-par-annee/rapports-devaluation-2015/17174',\n",
       " 'https://natural-resources.canada.ca/nrcan/transparency/reporting-accountability/plans-performance-reports/strategic-evaluation-division/207',\n",
       " 'https://natural-resources.canada.ca/transparency/reporting-and-accountability/plans-and-performance-reports/strategic-evaluation-division/year/782',\n",
       " 'https://natural-resources.canada.ca/evaluation/reports/2015/17155',\n",
       " 'https://natural-resources.canada.ca/transparency/reporting-and-accountability/plans-and-performance-reports/strategic-evaluation-division/reports-and-plans-year/evaluation-report-green-mining-initiative/evaluation-report-green-mining',\n",
       " 'https://natural-resources.canada.ca/transparency/reporting-and-accountability/plans-and-performance-reports/strategic-evaluation-division/reports-and-plans-year/final-evaluation-report-renewable-energy-deployment-sub-program-red/final',\n",
       " 'https://natural-resources.canada.ca/transparency/reporting-and-accountability/plans-and-performance-reports/strategic-evaluation-division/reports-and-plans-year/evaluation-report-climate-change-adaptation-sub-program/evaluation-report',\n",
       " 'https://natural-resources.canada.ca/nrcan/transparency/reporting-accountability/plans-performance-reports/audit/reports-year/reports-2015/assessment-port-hope-area-initiative-joint-audit-and-evaluation-project/18066']"
      ]
     },
     "execution_count": 36,
     "metadata": {},
     "output_type": "execute_result"
    }
   ],
   "source": [
    "print(len(urls))\n",
    "print(len(p_urls))\n",
    "urls[:100]"
   ]
  }
 ],
 "metadata": {
  "kernelspec": {
   "display_name": "Python 3",
   "language": "python",
   "name": "python3"
  },
  "language_info": {
   "codemirror_mode": {
    "name": "ipython",
    "version": 3
   },
   "file_extension": ".py",
   "mimetype": "text/x-python",
   "name": "python",
   "nbconvert_exporter": "python",
   "pygments_lexer": "ipython3",
   "version": "3.11.3"
  },
  "orig_nbformat": 4
 },
 "nbformat": 4,
 "nbformat_minor": 2
}
